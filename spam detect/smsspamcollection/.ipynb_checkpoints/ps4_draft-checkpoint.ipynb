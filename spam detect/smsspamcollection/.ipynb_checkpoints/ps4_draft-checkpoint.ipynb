{
 "cells": [
  {
   "cell_type": "code",
   "execution_count": 1,
   "metadata": {},
   "outputs": [],
   "source": [
    "#!/usr/bin/python\n",
    "# -*- coding: utf-8 -*-\n",
    "import re\n",
    "import nltk\n",
    "import string\n",
    "from collections import Counter\n",
    "import numpy as np\n",
    "import pandas as pd\n",
    "import matplotlib.pyplot as plt\n",
    "from nltk.corpus import stopwords\n",
    "from nltk.stem.wordnet import WordNetLemmatizer\n",
    "from sklearn.model_selection import train_test_split\n",
    "from sklearn.naive_bayes import MultinomialNB\n",
    "from sklearn.naive_bayes import BernoulliNB\n",
    "from sklearn.svm import LinearSVC\n",
    "from sklearn.linear_model import LogisticRegression\n",
    "import sklearn.metrics as metrics\n",
    "from sklearn.metrics import confusion_matrix\n",
    "from sklearn.metrics import roc_curve, auc\n",
    "from sklearn.preprocessing import label_binarize"
   ]
  },
  {
   "cell_type": "code",
   "execution_count": 2,
   "metadata": {},
   "outputs": [],
   "source": [
    "def load_data(test, spam):\n",
    "    \n",
    "    df1 = pd.read_csv('INBOX.csv', encoding = 'utf-8')\n",
    "    df2 = pd.read_csv('SPAM.csv', encoding = 'utf-8')\n",
    "    frames = [df1, df2]\n",
    "    df = pd.concat(frames)\n",
    "    df = df.sample(frac = 1).reset_index(drop = True)\n",
    "    \n",
    "    return(df)"
   ]
  },
  {
   "cell_type": "code",
   "execution_count": 3,
   "metadata": {},
   "outputs": [],
   "source": [
    "def my_train_test_split(df):\n",
    "    \n",
    "    x_train, x_test, y_train, y_test = train_test_split(df.v2, df.v1, test_size = 0.3)\n",
    "    \n",
    "    return(x_train, x_test, y_train, y_test)"
   ]
  },
  {
   "cell_type": "code",
   "execution_count": 4,
   "metadata": {},
   "outputs": [],
   "source": [
    "def build_dictionary(x_train):\n",
    "\n",
    "    list_of_words = []\n",
    "\n",
    "    # Collecting all words from those emails\n",
    "    for index, line in x_train.iteritems():\n",
    "        words = line.split()\n",
    "        list_of_words += words\n",
    "    \n",
    "    # Removes puctuations and non alphabets\n",
    "\n",
    "    for index, word in enumerate(list_of_words):\n",
    "        if word.isalpha() == False or len(word) < 2:\n",
    "            del list_of_words[index]\n",
    "\n",
    "    dictionary = Counter(list_of_words)\n",
    "    \n",
    "    return(dictionary)"
   ]
  },
  {
   "cell_type": "code",
   "execution_count": 5,
   "metadata": {},
   "outputs": [],
   "source": [
    "def build_features(x_train, dictionary):\n",
    "    \n",
    "  # ndarray to have the features\n",
    "\n",
    "    feature_matrix = np.zeros((x_train.shape[0], len(dictionary)))\n",
    "\n",
    "  # collecting the number of occurances of each of the words in the emails\n",
    "\n",
    "    for index, line in x_train.iteritems():\n",
    "        words = line.split()\n",
    "        for word_index, word in enumerate(dictionary):\n",
    "            feature_matrix[index, word_index] = words.count(word)\n",
    "    \n",
    "    return(feature_matrix)"
   ]
  },
  {
   "cell_type": "code",
   "execution_count": 6,
   "metadata": {},
   "outputs": [],
   "source": [
    "def roc_curve_plot(classifier, X_test, y_test):\n",
    "    probs = classifier.predict_proba(X_test)\n",
    "    preds = probs[:, 1]\n",
    "    y_new_test = label_binarize(y_test, classes = ['spam', 'ham'])\n",
    "    fpr, tpr, threshold = metrics.roc_curve(y_new_test, preds, pos_label = 0)\n",
    "    roc_auc = metrics.auc(fpr, tpr)\n",
    "    plt.title('Receiver Operating Characteristic')\n",
    "    plt.plot(fpr, tpr, 'b', label = 'AUC = %0.2f' % roc_auc)\n",
    "    plt.legend(loc = 'lower right')\n",
    "    plt.plot([0, 1], [0, 1],'r--')\n",
    "    plt.xlim([0, 1])\n",
    "    plt.ylim([0, 1])\n",
    "    plt.ylabel('True Positive Rate')\n",
    "    plt.xlabel('False Positive Rate')\n",
    "    plt.show()"
   ]
  },
  {
   "cell_type": "code",
   "execution_count": 7,
   "metadata": {},
   "outputs": [],
   "source": [
    "df = load_data('INBOX.csv', 'SPAM.csv')"
   ]
  },
  {
   "cell_type": "code",
   "execution_count": 8,
   "metadata": {},
   "outputs": [],
   "source": [
    "x_train, x_test, y_train, y_test = my_train_test_split(df)\n",
    "x_train = x_train.reset_index(drop = True)\n",
    "x_test = x_test.reset_index(drop = True)\n",
    "y_train = y_train.reset_index(drop = True)\n",
    "y_test = y_test.reset_index(drop = True)"
   ]
  },
  {
   "cell_type": "code",
   "execution_count": null,
   "metadata": {},
   "outputs": [],
   "source": [
    "dictionary = build_dictionary(x_train)\n",
    "feature_matrix = build_features(x_train, dictionary)"
   ]
  },
  {
   "cell_type": "code",
   "execution_count": null,
   "metadata": {},
   "outputs": [],
   "source": [
    "classifier_MNB = MultinomialNB()\n",
    "classifier_MNB.fit(feature_matrix, y_train)"
   ]
  },
  {
   "cell_type": "code",
   "execution_count": null,
   "metadata": {},
   "outputs": [],
   "source": [
    "test_features = build_features(x_test, dictionary)\n",
    "result_MNB = classifier_MNB.predict(test_features)"
   ]
  },
  {
   "cell_type": "code",
   "execution_count": null,
   "metadata": {},
   "outputs": [],
   "source": [
    "print('Confusion Matrix of Naive Bayes Algorithm is\\n{0}'.format(confusion_matrix(y_test, result_MNB)))\n",
    "print('Accuracy of Naive Bayes Algorithm is {0}'.format(classifier_MNB.score(test_features, y_test)))"
   ]
  },
  {
   "cell_type": "code",
   "execution_count": null,
   "metadata": {},
   "outputs": [],
   "source": [
    "roc_curve_plot(classifier_MNB, test_features, y_test)"
   ]
  },
  {
   "cell_type": "code",
   "execution_count": null,
   "metadata": {},
   "outputs": [],
   "source": [
    "classifier_LR = LogisticRegression()\n",
    "classifier_LR.fit(feature_matrix, y_train)\n",
    "result_LR = classifier_LR.predict(test_features)\n",
    "print('Confusion Matrix of Support Vector Machine is\\n{0}'.format(confusion_matrix(y_test, result_LR)))\n",
    "print('Accuracy of Support Vector Machine Algorithm is {0}'.format(classifier_LR.score(test_features, y_test)))\n",
    "roc_curve_plot(classifier_LR, test_features, y_test)"
   ]
  },
  {
   "cell_type": "code",
   "execution_count": null,
   "metadata": {},
   "outputs": [],
   "source": [
    "classifier_BNB = BernoulliNB()\n",
    "classifier_BNB.fit(feature_matrix, y_train)\n",
    "result_BNB = classifier_BNB.predict(test_features)\n",
    "print('Confusion Matrix of Bernoulli\\'s Naive Bayes Algorithm is\\n{0}'.format(confusion_matrix(y_test, result_BNB)))\n",
    "print('Accuracy of Bernoulli\\'s Naive Bayes Algorithm is {0}'.format(classifier_BNB.score(test_features, y_test)))\n",
    "roc_curve_plot(classifier_BNB, test_features, y_test)"
   ]
  },
  {
   "cell_type": "code",
   "execution_count": null,
   "metadata": {},
   "outputs": [],
   "source": [
    "v, k = max((v, k) for k, v in dictionary.items())"
   ]
  }
 ],
 "metadata": {
  "kernelspec": {
   "display_name": "Python 3",
   "language": "python",
   "name": "python3"
  },
  "language_info": {
   "codemirror_mode": {
    "name": "ipython",
    "version": 3
   },
   "file_extension": ".py",
   "mimetype": "text/x-python",
   "name": "python",
   "nbconvert_exporter": "python",
   "pygments_lexer": "ipython3",
   "version": "3.7.1"
  }
 },
 "nbformat": 4,
 "nbformat_minor": 2
}
