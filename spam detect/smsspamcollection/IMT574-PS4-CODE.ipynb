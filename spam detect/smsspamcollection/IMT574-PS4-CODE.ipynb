{
 "cells": [
  {
   "cell_type": "code",
   "execution_count": 229,
   "metadata": {},
   "outputs": [],
   "source": [
    "from sklearn.naive_bayes import MultinomialNB\n",
    "from sklearn.feature_extraction.text import TfidfVectorizer\n",
    "from sklearn.linear_model import LogisticRegression\n",
    "from sklearn.neighbors import KNeighborsClassifier\n",
    "import sklearn.metrics as metrics\n",
    "from sklearn.preprocessing import label_binarize\n",
    "import matplotlib.pyplot as plt\n",
    "import re\n",
    "import pandas\n",
    "from nltk import sent_tokenize\n",
    "from nltk.tokenize import word_tokenize\n",
    "from nltk.corpus import stopwords\n",
    "from nltk.stem import LancasterStemmer, WordNetLemmatizer\n",
    "from sklearn.model_selection import train_test_split"
   ]
  },
  {
   "cell_type": "code",
   "execution_count": 230,
   "metadata": {},
   "outputs": [],
   "source": [
    "def to_lowercase(words):\n",
    "    \"\"\"Convert all characters to lowercase from list of tokenized words\"\"\"\n",
    "    new_words = []\n",
    "    for word in words:\n",
    "        new_word = word.lower()\n",
    "        new_words.append(new_word)\n",
    "    return new_words\n",
    "\n",
    "def remove_punctuation(words):\n",
    "    \"\"\"Remove punctuation from list of tokenized words\"\"\"\n",
    "    new_words = []\n",
    "    for word in words:\n",
    "        new_word = re.sub(r'[^\\w\\s]', '', word)\n",
    "        if new_word != '':\n",
    "            new_words.append(new_word)\n",
    "    return new_words\n",
    "\n",
    "def remove_stopwords(words):\n",
    "    \"\"\"Remove stop words from list of tokenized words\"\"\"\n",
    "    new_words = []\n",
    "    for word in words:\n",
    "        if word not in stopwords.words('english'):\n",
    "            new_words.append(word)\n",
    "    return new_words"
   ]
  },
  {
   "cell_type": "code",
   "execution_count": 231,
   "metadata": {},
   "outputs": [],
   "source": [
    "def normalize(words):\n",
    "    words = to_lowercase(words)\n",
    "    words = remove_punctuation(words)\n",
    "    words = remove_stopwords(words)\n",
    "    return words"
   ]
  },
  {
   "cell_type": "code",
   "execution_count": 232,
   "metadata": {},
   "outputs": [
    {
     "name": "stderr",
     "output_type": "stream",
     "text": [
      "C:\\Users\\Manas\\Anaconda3\\lib\\site-packages\\ipykernel_launcher.py:8: SettingWithCopyWarning: \n",
      "A value is trying to be set on a copy of a slice from a DataFrame.\n",
      "Try using .loc[row_indexer,col_indexer] = value instead\n",
      "\n",
      "See the caveats in the documentation: http://pandas.pydata.org/pandas-docs/stable/indexing.html#indexing-view-versus-copy\n",
      "  \n"
     ]
    }
   ],
   "source": [
    "#reading data from the csv which contains all the general emails and spam emails\n",
    "data = pandas.read_csv('INBOX.csv', encoding='utf-8')\n",
    "data_n = data.iloc[: , 0:2]\n",
    "#tt = data_n['v2'].apply(sent_tokenize)\n",
    "\n",
    "#breaking text paragraph into words\n",
    "new_tt = data_n.loc[ :,'v2'].apply(lambda x : x.replace(\"b\\\"\", \"\")).apply(lambda x : x.replace(\"b\\'\", \"\")).apply(word_tokenize).apply(normalize).apply(lambda x : ' '.join(x))\n",
    "data_n['tt'] = new_tt"
   ]
  },
  {
   "cell_type": "code",
   "execution_count": 233,
   "metadata": {},
   "outputs": [
    {
     "data": {
      "text/html": [
       "<div>\n",
       "<style scoped>\n",
       "    .dataframe tbody tr th:only-of-type {\n",
       "        vertical-align: middle;\n",
       "    }\n",
       "\n",
       "    .dataframe tbody tr th {\n",
       "        vertical-align: top;\n",
       "    }\n",
       "\n",
       "    .dataframe thead th {\n",
       "        text-align: right;\n",
       "    }\n",
       "</style>\n",
       "<table border=\"1\" class=\"dataframe\">\n",
       "  <thead>\n",
       "    <tr style=\"text-align: right;\">\n",
       "      <th></th>\n",
       "      <th>v1</th>\n",
       "      <th>v2</th>\n",
       "      <th>tt</th>\n",
       "    </tr>\n",
       "  </thead>\n",
       "  <tbody>\n",
       "    <tr>\n",
       "      <th>7574</th>\n",
       "      <td>spam</td>\n",
       "      <td>b''</td>\n",
       "      <td></td>\n",
       "    </tr>\n",
       "    <tr>\n",
       "      <th>2465</th>\n",
       "      <td>ham</td>\n",
       "      <td>b\"Prosper with Kiplinger's daily digest of tim...</td>\n",
       "      <td>prosper kiplinger daily digest timely trusted ...</td>\n",
       "    </tr>\n",
       "    <tr>\n",
       "      <th>4425</th>\n",
       "      <td>spam</td>\n",
       "      <td>b\"Seks stjerner i Politiken, 5 stjerner i Brse...</td>\n",
       "      <td>seks stjerner politiken 5 stjerner brsen og to...</td>\n",
       "    </tr>\n",
       "    <tr>\n",
       "      <th>1553</th>\n",
       "      <td>ham</td>\n",
       "      <td>b'Greetings from ICAIT-2019 Dear sir/madam, It...</td>\n",
       "      <td>greetings icait2019 dear sirmadam gives us imm...</td>\n",
       "    </tr>\n",
       "    <tr>\n",
       "      <th>3875</th>\n",
       "      <td>ham</td>\n",
       "      <td>b\"Kindle eBooks explore Amazon.in Your Amazon....</td>\n",
       "      <td>kindle ebooks explore amazonin amazonin today ...</td>\n",
       "    </tr>\n",
       "  </tbody>\n",
       "</table>\n",
       "</div>"
      ],
      "text/plain": [
       "        v1                                                 v2  \\\n",
       "7574  spam                                                b''   \n",
       "2465   ham  b\"Prosper with Kiplinger's daily digest of tim...   \n",
       "4425  spam  b\"Seks stjerner i Politiken, 5 stjerner i Brse...   \n",
       "1553   ham  b'Greetings from ICAIT-2019 Dear sir/madam, It...   \n",
       "3875   ham  b\"Kindle eBooks explore Amazon.in Your Amazon....   \n",
       "\n",
       "                                                     tt  \n",
       "7574                                                     \n",
       "2465  prosper kiplinger daily digest timely trusted ...  \n",
       "4425  seks stjerner politiken 5 stjerner brsen og to...  \n",
       "1553  greetings icait2019 dear sirmadam gives us imm...  \n",
       "3875  kindle ebooks explore amazonin amazonin today ...  "
      ]
     },
     "execution_count": 233,
     "metadata": {},
     "output_type": "execute_result"
    }
   ],
   "source": [
    "#random shuffling of the data\n",
    "newdf = data_n.sample(frac=1)\n",
    "newdf.head()"
   ]
  },
  {
   "cell_type": "code",
   "execution_count": 234,
   "metadata": {},
   "outputs": [],
   "source": [
    "# splitting the data into train and test set\n",
    "X_train, X_test, y_train, y_test = train_test_split(newdf.tt, newdf.v1, test_size=0.33, random_state=42)\n",
    "\n",
    "#dictionary to store test results\n",
    "result_dict = dict()\n"
   ]
  },
  {
   "cell_type": "code",
   "execution_count": 235,
   "metadata": {},
   "outputs": [
    {
     "name": "stdout",
     "output_type": "stream",
     "text": [
      "The Logistic Regression Model has mean accuracy: 0.8492424242424242\n",
      "\n",
      "Confusion Matrix below : \n"
     ]
    },
    {
     "name": "stderr",
     "output_type": "stream",
     "text": [
      "C:\\Users\\Manas\\Anaconda3\\lib\\site-packages\\sklearn\\linear_model\\logistic.py:433: FutureWarning: Default solver will be changed to 'lbfgs' in 0.22. Specify a solver to silence this warning.\n",
      "  FutureWarning)\n"
     ]
    },
    {
     "data": {
      "text/plain": [
       "array([[1048,  247],\n",
       "       [ 151, 1194]], dtype=int64)"
      ]
     },
     "execution_count": 235,
     "metadata": {},
     "output_type": "execute_result"
    }
   ],
   "source": [
    "# building the logistics regression model\n",
    "string = ''\n",
    "vectorizer = TfidfVectorizer()\n",
    "vectorize_text = vectorizer.fit_transform(X_train)\n",
    "LRmodel = LogisticRegression()\n",
    "LRmodel.fit(vectorize_text, y_train)\n",
    "\n",
    "# score\n",
    "vectorize_text = vectorizer.transform(X_test)\n",
    "score = LRmodel.score(vectorize_text, y_test)\n",
    "result_dict['Logistic Regression'] = [score]\n",
    "string += 'The Logistic Regression Model has mean accuracy: ' + str(score)\n",
    "print(string + '\\n')\n",
    "\n",
    "y_pred = LRmodel.predict(vectorize_text)\n",
    "print('Confusion Matrix below : ')\n",
    "metrics.confusion_matrix(y_test, y_pred)\n"
   ]
  },
  {
   "cell_type": "code",
   "execution_count": 249,
   "metadata": {},
   "outputs": [
    {
     "name": "stdout",
     "output_type": "stream",
     "text": [
      "AUC for Logistic Regression is 0.9322969384679423\n"
     ]
    }
   ],
   "source": [
    "# analyzing the metrics\n",
    "probs = LRmodel.predict_proba(vectorize_text)\n",
    "preds = probs[:,0]\n",
    "y_new_test = label_binarize(y_test, classes=['spam', 'ham'])\n",
    "fpr, tpr, threshold = metrics.roc_curve(y_new_test, preds, pos_label=1)\n",
    "roc_auc = metrics.auc(fpr, tpr)\n",
    "result_dict['Logistic Regression'].append(roc_auc)\n",
    "print('AUC for Logistic Regression is', roc_auc)"
   ]
  },
  {
   "cell_type": "code",
   "execution_count": 237,
   "metadata": {},
   "outputs": [
    {
     "data": {
      "image/png": "[encoded data removed]",
      "text/plain": [
       "<Figure size 576x576 with 1 Axes>"
      ]
     },
     "metadata": {
      "needs_background": "light"
     },
     "output_type": "display_data"
    }
   ],
   "source": [
    "# ROC curve plot for Logictic Regression\n",
    "fig, ax = plt.subplots(figsize=(8,8))\n",
    "ax.plot(fpr, tpr, 'b', label = 'AUC = %0.2f' % roc_auc)\n",
    "ax.legend(loc = 'lower right')\n",
    "ax.plot([0, 1], [0, 1],'r--')\n",
    "ax.set_title('ROC Curve for Logistic Regression')\n",
    "ax.set_xlim([0, 1])\n",
    "ax.set_ylim([0, 1])\n",
    "ax.set_ylabel('True Positive Rate')\n",
    "ax.set_xlabel('False Positive Rate')\n",
    "plt.show()"
   ]
  },
  {
   "cell_type": "code",
   "execution_count": 238,
   "metadata": {},
   "outputs": [
    {
     "name": "stdout",
     "output_type": "stream",
     "text": [
      "The k-nearest neighbors model has mean accuracy: 0.6446969696969697\n",
      "Confusion Matrix below : \n"
     ]
    },
    {
     "data": {
      "text/plain": [
       "array([[1008,  287],\n",
       "       [ 651,  694]], dtype=int64)"
      ]
     },
     "execution_count": 238,
     "metadata": {},
     "output_type": "execute_result"
    }
   ],
   "source": [
    "#building the k-nearest neighbors model\n",
    "string = ''\n",
    "vectorizer = TfidfVectorizer()\n",
    "vectorize_text = vectorizer.fit_transform(X_train)\n",
    "KNmodel = KNeighborsClassifier(n_neighbors=5)\n",
    "KNmodel.fit(vectorize_text, y_train)\n",
    "\n",
    "# score\n",
    "vectorize_text = vectorizer.transform(X_test)\n",
    "score = KNmodel.score(vectorize_text, y_test)\n",
    "result_dict['K-Nearest'] = [score]\n",
    "string += 'The k-nearest neighbors model has mean accuracy: ' + str(score)\n",
    "print(string)\n",
    "\n",
    "y_pred = KNmodel.predict(vectorize_text)\n",
    "print('Confusion Matrix below : ')\n",
    "metrics.confusion_matrix(y_test, y_pred)"
   ]
  },
  {
   "cell_type": "code",
   "execution_count": 239,
   "metadata": {},
   "outputs": [
    {
     "name": "stdout",
     "output_type": "stream",
     "text": [
      "AUC for k-nearest neighbors is 0.723062967375235\n"
     ]
    }
   ],
   "source": [
    "# analyzing the metrics\n",
    "probs = KNmodel.predict_proba(vectorize_text)\n",
    "preds = probs[:,0]\n",
    "y_new_test = label_binarize(y_test, classes=['spam', 'ham'])\n",
    "fpr, tpr, threshold = metrics.roc_curve(y_new_test, preds, pos_label=1)\n",
    "roc_auc = metrics.auc(fpr, tpr)\n",
    "result_dict['K-Nearest'].append(roc_auc)\n",
    "print('AUC for k-nearest neighbors is', roc_auc)"
   ]
  },
  {
   "cell_type": "code",
   "execution_count": 240,
   "metadata": {},
   "outputs": [
    {
     "data": {
      "image/png": "[encoded data removed]",
      "text/plain": [
       "<Figure size 576x576 with 1 Axes>"
      ]
     },
     "metadata": {
      "needs_background": "light"
     },
     "output_type": "display_data"
    }
   ],
   "source": [
    "# ROC curve plot for k-nearest neighbors\n",
    "fig, ax = plt.subplots(figsize=(8,8))\n",
    "ax.plot(fpr, tpr, 'b', label = 'AUC = %0.2f' % roc_auc)\n",
    "ax.legend(loc = 'lower right')\n",
    "ax.plot([0, 1], [0, 1],'r--')\n",
    "ax.set_title('ROC Curve for k-nearest neighbors')\n",
    "ax.set_xlim([0, 1])\n",
    "ax.set_ylim([0, 1])\n",
    "ax.set_ylabel('True Positive Rate')\n",
    "ax.set_xlabel('False Positive Rate')\n",
    "plt.show()"
   ]
  },
  {
   "cell_type": "code",
   "execution_count": 241,
   "metadata": {},
   "outputs": [
    {
     "name": "stdout",
     "output_type": "stream",
     "text": [
      "The Multinomial Naive Bayes Model has mean accuracy: 0.8321969696969697\n",
      "Confusion Matrix below : \n"
     ]
    },
    {
     "data": {
      "text/plain": [
       "array([[1168,  127],\n",
       "       [ 316, 1029]], dtype=int64)"
      ]
     },
     "execution_count": 241,
     "metadata": {},
     "output_type": "execute_result"
    }
   ],
   "source": [
    "#building the Multinomial Naive Bayes model\n",
    "string = ''\n",
    "vectorizer = TfidfVectorizer()\n",
    "vectorize_text = vectorizer.fit_transform(X_train)\n",
    "MNBmodel = MultinomialNB()\n",
    "MNBmodel.fit(vectorize_text, y_train)\n",
    "\n",
    "# score\n",
    "vectorize_text = vectorizer.transform(X_test)\n",
    "score = MNBmodel.score(vectorize_text, y_test)\n",
    "result_dict['Multinomial Naive Bayes'] = [score]\n",
    "string += 'The Multinomial Naive Bayes Model has mean accuracy: ' + str(score)\n",
    "print(string)\n",
    "\n",
    "y_pred = MNBmodel.predict(vectorize_text)\n",
    "print('Confusion Matrix below : ')\n",
    "metrics.confusion_matrix(y_test, y_pred)"
   ]
  },
  {
   "cell_type": "code",
   "execution_count": 242,
   "metadata": {},
   "outputs": [
    {
     "name": "stdout",
     "output_type": "stream",
     "text": [
      "AUC for Multinomial Naive Bayes is 0.9317193667379542\n"
     ]
    }
   ],
   "source": [
    "# analyzing the metrics\n",
    "probs = MNBmodel.predict_proba(vectorize_text)\n",
    "preds = probs[:,0]\n",
    "y_new_test = label_binarize(y_test, classes=['spam', 'ham'])\n",
    "fpr, tpr, threshold = metrics.roc_curve(y_new_test, preds, pos_label=1)\n",
    "roc_auc = metrics.auc(fpr, tpr)\n",
    "result_dict['Multinomial Naive Bayes'].append(roc_auc)\n",
    "print('AUC for Multinomial Naive Bayes is', roc_auc)"
   ]
  },
  {
   "cell_type": "code",
   "execution_count": 243,
   "metadata": {},
   "outputs": [
    {
     "data": {
      "image/png": "[encoded data removed]",
      "text/plain": [
       "<Figure size 576x576 with 1 Axes>"
      ]
     },
     "metadata": {
      "needs_background": "light"
     },
     "output_type": "display_data"
    }
   ],
   "source": [
    "# ROC curve plot for Multinomial Naive Bayes\n",
    "fig, ax = plt.subplots(figsize=(8,8))\n",
    "ax.plot(fpr, tpr, 'b', label = 'AUC = %0.2f' % roc_auc)\n",
    "ax.legend(loc = 'lower right')\n",
    "ax.plot([0, 1], [0, 1],'r--')\n",
    "ax.set_title('ROC Curve for Multinomial Naive Bayes')\n",
    "ax.set_xlim([0, 1])\n",
    "ax.set_ylim([0, 1])\n",
    "ax.set_ylabel('True Positive Rate')\n",
    "ax.set_xlabel('False Positive Rate')\n",
    "plt.show()"
   ]
  },
  {
   "cell_type": "code",
   "execution_count": 244,
   "metadata": {},
   "outputs": [
    {
     "data": {
      "text/plain": [
       "{'Logistic Regression': [0.8492424242424242, 0.9322969384679423],\n",
       " 'K-Nearest': [0.6446969696969697, 0.723062967375235],\n",
       " 'Multinomial Naive Bayes': [0.8321969696969697, 0.9317193667379542]}"
      ]
     },
     "execution_count": 244,
     "metadata": {},
     "output_type": "execute_result"
    }
   ],
   "source": [
    "result_dict"
   ]
  },
  {
   "cell_type": "code",
   "execution_count": 245,
   "metadata": {},
   "outputs": [
    {
     "data": {
      "text/html": [
       "<div>\n",
       "<style scoped>\n",
       "    .dataframe tbody tr th:only-of-type {\n",
       "        vertical-align: middle;\n",
       "    }\n",
       "\n",
       "    .dataframe tbody tr th {\n",
       "        vertical-align: top;\n",
       "    }\n",
       "\n",
       "    .dataframe thead th {\n",
       "        text-align: right;\n",
       "    }\n",
       "</style>\n",
       "<table border=\"1\" class=\"dataframe\">\n",
       "  <thead>\n",
       "    <tr style=\"text-align: right;\">\n",
       "      <th></th>\n",
       "      <th>Mean Accuracy</th>\n",
       "      <th>AUC</th>\n",
       "    </tr>\n",
       "  </thead>\n",
       "  <tbody>\n",
       "    <tr>\n",
       "      <th>Logistic Regression</th>\n",
       "      <td>0.849242</td>\n",
       "      <td>0.932297</td>\n",
       "    </tr>\n",
       "    <tr>\n",
       "      <th>K-Nearest</th>\n",
       "      <td>0.644697</td>\n",
       "      <td>0.723063</td>\n",
       "    </tr>\n",
       "    <tr>\n",
       "      <th>Multinomial Naive Bayes</th>\n",
       "      <td>0.832197</td>\n",
       "      <td>0.931719</td>\n",
       "    </tr>\n",
       "  </tbody>\n",
       "</table>\n",
       "</div>"
      ],
      "text/plain": [
       "                         Mean Accuracy       AUC\n",
       "Logistic Regression           0.849242  0.932297\n",
       "K-Nearest                     0.644697  0.723063\n",
       "Multinomial Naive Bayes       0.832197  0.931719"
      ]
     },
     "execution_count": 245,
     "metadata": {},
     "output_type": "execute_result"
    }
   ],
   "source": [
    "res_df = pandas.DataFrame.from_dict(result_dict, orient= 'index', columns=['Mean Accuracy', 'AUC'])\n",
    "res_df"
   ]
  },
  {
   "cell_type": "code",
   "execution_count": 246,
   "metadata": {},
   "outputs": [
    {
     "data": {
      "image/png": "[encoded data removed]",
      "text/plain": [
       "<Figure size 1080x576 with 1 Axes>"
      ]
     },
     "metadata": {
      "needs_background": "light"
     },
     "output_type": "display_data"
    }
   ],
   "source": [
    "pos = list(range(len(res_df['Mean Accuracy']))) \n",
    "width = 0.15\n",
    "    \n",
    "# Plotting the bars\n",
    "fig, ax = plt.subplots(figsize=(15,8))\n",
    "\n",
    "plt.bar(pos, \n",
    "        res_df['Mean Accuracy'],\n",
    "        width, \n",
    "        alpha=0.5, \n",
    "        color='#EE3224',\n",
    "       )\n",
    "\n",
    "plt.bar([p + width for p in pos], \n",
    "        res_df['AUC'],\n",
    "        width,\n",
    "        alpha=0.5, \n",
    "        color='#F78F1E')\n",
    "\n",
    "ax.set_ylabel('Metrics')\n",
    "\n",
    "ax.set_xticks([ p + 0.5 * width for p in pos])\n",
    "\n",
    "# Set the labels for the x ticks\n",
    "ax.set_xticklabels(['Logistic' , 'KNN', 'Multinomial Naive Bayes'])\n",
    "\n",
    "plt.legend(['Mean Accuracy', 'AUC'], loc='upper center')\n",
    "plt.show()\n"
   ]
  },
  {
   "cell_type": "code",
   "execution_count": null,
   "metadata": {},
   "outputs": [],
   "source": []
  }
 ],
 "metadata": {
  "kernelspec": {
   "display_name": "Python 3",
   "language": "python",
   "name": "python3"
  },
  "language_info": {
   "codemirror_mode": {
    "name": "ipython",
    "version": 3
   },
   "file_extension": ".py",
   "mimetype": "text/x-python",
   "name": "python",
   "nbconvert_exporter": "python",
   "pygments_lexer": "ipython3",
   "version": "3.7.1"
  }
 },
 "nbformat": 4,
 "nbformat_minor": 2
}
