{
 "cells": [
  {
   "cell_type": "markdown",
   "metadata": {},
   "source": [
    "# Problem Set 3, due February 5 at 5:30 pm\n",
    "\n",
    "###Before You Start\n",
    "\n",
    "Make sure the following libraries load correctly (hit Ctrl-Enter). Note that while you are loading several powerful libraries, including machine learning libraries, the goal of this problem set is to implement several algorithms from scratch. In particular, you should *not* be using any built-in libraries for nearest neighbors, distance metrics, or cross-validation -- your mission is to write those algorithms in Python! Parts 1 and 2 will be relatively easy; Part 3 will take more time.\n",
    "\n",
    "*Also note:* For this assignment we are requiring you to use base **matplotlib** - no more Seaborn or other packages. This will help you become familiar with techniques for maintaining fine-grained control over your data visualizations. It will also help our graders, who spent countless hours trying to make various versions import for grading."
   ]
  },
  {
   "cell_type": "code",
   "execution_count": 1,
   "metadata": {},
   "outputs": [],
   "source": [
    "import IPython\n",
    "import numpy as np\n",
    "import scipy as sp\n",
    "import pandas as pd\n",
    "import matplotlib\n",
    "import sklearn"
   ]
  },
  {
   "cell_type": "code",
   "execution_count": 2,
   "metadata": {},
   "outputs": [],
   "source": [
    "from sklearn import linear_model"
   ]
  },
  {
   "cell_type": "markdown",
   "metadata": {},
   "source": [
    "---\n",
    "\n",
    "## Introduction to the assignment\n",
    "\n",
    "For this assignment, you will be using the Boston Housing Prices Data Set.  This used to be housed by [UCI Machine Learning Repository](http://archive.ics.uci.edu/ml/datasets/Housing), but it is not housed there any more. You can read about it at [Kaggle](https://www.kaggle.com/vikrishnan/boston-house-prices) and at the [University of Toronto](https://www.cs.toronto.edu/~delve/data/boston/bostonDetail.html). Please read about the dataset carefully before continuing.  Use the following commands to load the dataset:\n"
   ]
  },
  {
   "cell_type": "code",
   "execution_count": 3,
   "metadata": {},
   "outputs": [],
   "source": [
    "from sklearn.datasets import load_boston\n",
    "bdata = load_boston()"
   ]
  },
  {
   "cell_type": "markdown",
   "metadata": {},
   "source": [
    "The following commands will provide some basic information about the shape of the data:"
   ]
  },
  {
   "cell_type": "code",
   "execution_count": 4,
   "metadata": {},
   "outputs": [
    {
     "name": "stdout",
     "output_type": "stream",
     "text": [
      "dict_keys(['data', 'target', 'feature_names', 'DESCR', 'filename'])\n",
      "['CRIM' 'ZN' 'INDUS' 'CHAS' 'NOX' 'RM' 'AGE' 'DIS' 'RAD' 'TAX' 'PTRATIO'\n",
      " 'B' 'LSTAT']\n",
      "(506, 13)\n",
      "(506,)\n",
      ".. _boston_dataset:\n",
      "\n",
      "Boston house prices dataset\n",
      "---------------------------\n",
      "\n",
      "**Data Set Characteristics:**  \n",
      "\n",
      "    :Number of Instances: 506 \n",
      "\n",
      "    :Number of Attributes: 13 numeric/categorical predictive. Median Value (attribute 14) is usually the target.\n",
      "\n",
      "    :Attribute Information (in order):\n",
      "        - CRIM     per capita crime rate by town\n",
      "        - ZN       proportion of residential land zoned for lots over 25,000 sq.ft.\n",
      "        - INDUS    proportion of non-retail business acres per town\n",
      "        - CHAS     Charles River dummy variable (= 1 if tract bounds river; 0 otherwise)\n",
      "        - NOX      nitric oxides concentration (parts per 10 million)\n",
      "        - RM       average number of rooms per dwelling\n",
      "        - AGE      proportion of owner-occupied units built prior to 1940\n",
      "        - DIS      weighted distances to five Boston employment centres\n",
      "        - RAD      index of accessibility to radial highways\n",
      "        - TAX      full-value property-tax rate per $10,000\n",
      "        - PTRATIO  pupil-teacher ratio by town\n",
      "        - B        1000(Bk - 0.63)^2 where Bk is the proportion of blacks by town\n",
      "        - LSTAT    % lower status of the population\n",
      "        - MEDV     Median value of owner-occupied homes in $1000's\n",
      "\n",
      "    :Missing Attribute Values: None\n",
      "\n",
      "    :Creator: Harrison, D. and Rubinfeld, D.L.\n",
      "\n",
      "This is a copy of UCI ML housing dataset.\n",
      "https://archive.ics.uci.edu/ml/machine-learning-databases/housing/\n",
      "\n",
      "\n",
      "This dataset was taken from the StatLib library which is maintained at Carnegie Mellon University.\n",
      "\n",
      "The Boston house-price data of Harrison, D. and Rubinfeld, D.L. 'Hedonic\n",
      "prices and the demand for clean air', J. Environ. Economics & Management,\n",
      "vol.5, 81-102, 1978.   Used in Belsley, Kuh & Welsch, 'Regression diagnostics\n",
      "...', Wiley, 1980.   N.B. Various transformations are used in the table on\n",
      "pages 244-261 of the latter.\n",
      "\n",
      "The Boston house-price data has been used in many machine learning papers that address regression\n",
      "problems.   \n",
      "     \n",
      ".. topic:: References\n",
      "\n",
      "   - Belsley, Kuh & Welsch, 'Regression diagnostics: Identifying Influential Data and Sources of Collinearity', Wiley, 1980. 244-261.\n",
      "   - Quinlan,R. (1993). Combining Instance-Based and Model-Based Learning. In Proceedings on the Tenth International Conference of Machine Learning, 236-243, University of Massachusetts, Amherst. Morgan Kaufmann.\n",
      "\n"
     ]
    }
   ],
   "source": [
    "print (bdata.keys())\n",
    "print (bdata.feature_names)\n",
    "print (bdata.data.shape)\n",
    "print (bdata.target.shape)\n",
    "# uncomment the following if you want to see a lengthy description of the dataset\n",
    "print (bdata.DESCR)"
   ]
  },
  {
   "cell_type": "code",
   "execution_count": 5,
   "metadata": {},
   "outputs": [],
   "source": [
    "to_dataframe = pd.DataFrame(bdata.data)"
   ]
  },
  {
   "cell_type": "code",
   "execution_count": 6,
   "metadata": {},
   "outputs": [],
   "source": [
    "to_dataframe.columns = ['CRIM', 'ZN', 'INDUS', 'CHAS', 'NOX', 'RM', 'AGE', 'DIS', 'RAD', 'TAX','PTRATIO','B','LSTAT']"
   ]
  },
  {
   "cell_type": "code",
   "execution_count": 7,
   "metadata": {},
   "outputs": [],
   "source": [
    "bdata2 = to_dataframe"
   ]
  },
  {
   "cell_type": "code",
   "execution_count": 8,
   "metadata": {},
   "outputs": [],
   "source": [
    "bdata2_target = pd.DataFrame(bdata.target)"
   ]
  },
  {
   "cell_type": "code",
   "execution_count": 9,
   "metadata": {},
   "outputs": [],
   "source": [
    "bdata2_target.columns = ['MEDV']"
   ]
  },
  {
   "cell_type": "markdown",
   "metadata": {},
   "source": [
    "---\n",
    "\n",
    "##Part 1: Descriptive analysis\n",
    "\n",
    "Before beginning the \"real\" work, dig into the data a bit do see what you're dealing with.  If you feel that you are still in the beginning stages of analyzing data in Python, no problem. That is understandable. Just make sure to read some of the online resources like [this one](https://github.com/jrjohansson/scientific-python-lectures).\n",
    "\n",
    "###1.1: Histogram of housing prices\n",
    "\n",
    "Below you will find some very basic code to make a very basic histogram of median housing prices (the \"target\" variable) for your dataset.  Your first task is to make this graph look pretty by doing the following:\n",
    "\n",
    "1. Add appropriate labels to the x and y axes, make sure to include units\n",
    "2. Change the bin width on the histogram to be $1000\n",
    "3. Remove the axes on the top and right side of the plot window\n",
    "4. Change the color of the bars to be green, and remove the black borders from the bars\n"
   ]
  },
  {
   "cell_type": "code",
   "execution_count": 10,
   "metadata": {},
   "outputs": [
    {
     "data": {
      "image/png": "[encoded data removed]",
      "text/plain": [
       "<Figure size 2160x720 with 1 Axes>"
      ]
     },
     "metadata": {
      "needs_background": "light"
     },
     "output_type": "display_data"
    }
   ],
   "source": [
    "# prepare your jupyter notebook to work with matplotlib and import the library to something convenient\n",
    "%matplotlib inline  \n",
    "import matplotlib.pyplot as plt  \n",
    "\n",
    "# edit the code below to make the graph look good\n",
    "fig, ax = plt.subplots()\n",
    "\n",
    "fig.set_size_inches(30,10)\n",
    "\n",
    "plt.hist(bdata.target, color = 'green', bins = 10, )\n",
    "\n",
    "plt.xlabel('MEDV in $1000',fontsize = 25)\n",
    "plt.ylabel('No. of observations',fontsize = 25)\n",
    "plt.xticks(fontsize = 25)\n",
    "plt.yticks(fontsize = 25)\n",
    "\n",
    "\n",
    "ax.spines[\"right\"].set_visible(False)\n",
    "ax.spines[\"top\"].set_visible(False)"
   ]
  },
  {
   "cell_type": "markdown",
   "metadata": {},
   "source": [
    "###1.2: Scatter plot of housing prices and crime\n",
    "\n",
    "Use matplotlib to create a scatter plot that shows the relationship between the median value of the home (y-axis) and the per-capita crime rate (x-axis).  Properly label your axes, and make sure that your graphic looks polished and professional.\n"
   ]
  },
  {
   "cell_type": "code",
   "execution_count": 11,
   "metadata": {},
   "outputs": [
    {
     "data": {
      "image/png": "[encoded data removed]",
      "text/plain": [
       "<Figure size 2160x720 with 1 Axes>"
      ]
     },
     "metadata": {
      "needs_background": "light"
     },
     "output_type": "display_data"
    }
   ],
   "source": [
    "fig, ax2 = plt.subplots()\n",
    "\n",
    "fig.set_size_inches(30,10)\n",
    "\n",
    "plt.scatter(bdata2['CRIM'], bdata2_target)\n",
    "\n",
    "plt.xlabel('CRIM', fontsize = 25)\n",
    "plt.ylabel('MEDV', fontsize = 25)\n",
    "plt.xticks(fontsize = 25)\n",
    "plt.yticks(fontsize = 25)\n",
    "\n",
    "ax2.spines[\"right\"].set_visible(False)\n",
    "ax2.spines[\"top\"].set_visible(False)"
   ]
  },
  {
   "cell_type": "markdown",
   "metadata": {},
   "source": [
    "###1.3 Create your own (creative and effective) visualization\n",
    "\n",
    "Use another type of graph or chart to illustrate an interesting pattern in the data.  Be creative in your visualization, and make sure to produce a \"publication-quality\" graph.  Points will be given for useful and creative graphs; points will be deducted for confusing issues like unlabeled axes.  If you're new to data visualization, [this guide](http://pubs.aeaweb.org/doi/pdfplus/10.1257/jep.28.1.209) is a good place to start."
   ]
  },
  {
   "cell_type": "code",
   "execution_count": 12,
   "metadata": {},
   "outputs": [
    {
     "data": {
      "image/png": "[encoded data removed]",
      "text/plain": [
       "<Figure size 2160x720 with 1 Axes>"
      ]
     },
     "metadata": {
      "needs_background": "light"
     },
     "output_type": "display_data"
    }
   ],
   "source": [
    "fig, ax3 = plt.subplots()\n",
    "\n",
    "fig.set_size_inches(30,10)\n",
    "\n",
    "plt.scatter(bdata2['AGE'], bdata2['NOX'], color='green')\n",
    "\n",
    "\n",
    "plt.xlabel('AGE', fontsize = 25)\n",
    "plt.ylabel('NOX', fontsize = 25)\n",
    "plt.xticks(fontsize = 25)\n",
    "plt.yticks(fontsize = 25)\n",
    "\n",
    "\n",
    "ax3.spines[\"right\"].set_visible(False)\n",
    "ax3.spines[\"top\"].set_visible(False)"
   ]
  },
  {
   "cell_type": "code",
   "execution_count": null,
   "metadata": {},
   "outputs": [],
   "source": [
    "This plot indicates that with an increase in the AGE of the building, there is an higher concentration of NOX"
   ]
  },
  {
   "cell_type": "markdown",
   "metadata": {},
   "source": [
    "---\n",
    "\n",
    "##Part 2: Experimental Setup\n",
    "\n",
    "The goal of the next few sections is to design an experiment to predict the median home value for an instance in the data.\n",
    "\n",
    "###2.1 Begin by writing a function to compute the Root Mean Squared Error for a list of numbers\n",
    "\n",
    "You can find the sqrt function in the Numpy package. Furthermore the details of RMSE can be found on [Wikipedia](http://en.wikipedia.org/wiki/Root-mean-square_deviation)\n",
    "\n"
   ]
  },
  {
   "cell_type": "code",
   "execution_count": 13,
   "metadata": {},
   "outputs": [],
   "source": [
    "\"\"\"\n",
    "Function\n",
    "--------\n",
    "compute_rmse\n",
    "\n",
    "Given two arrays, one of actual values and one of predicted values,\n",
    "compute the Roote Mean Squared Error\n",
    "\n",
    "Parameters\n",
    "----------\n",
    "predictions : array\n",
    "    Array of numerical values corresponding to predictions for each of the N observations\n",
    "\n",
    "yvalues : array\n",
    "    Array of numerical values corresponding to the actual values for each of the N observations\n",
    "\n",
    "Returns\n",
    "-------\n",
    "rmse : int\n",
    "    Root Mean Squared Error of the prediction\n",
    "\n",
    "Example\n",
    "-------\n",
    ">>> print compute_rmse((2,2,3),(0,2,6)\n",
    "2.16\n",
    "\"\"\"\n",
    "def compute_rmse(predictions, yvalues):\n",
    "    return np.sqrt(((predictions - yvalues) ** 2).mean())"
   ]
  },
  {
   "cell_type": "markdown",
   "metadata": {},
   "source": [
    "###2.2 Divide your data into training and testing datasets\n",
    "\n",
    "Randomly select 66% of the data and put this in a training dataset (call this \"bdata_train\"), and place the remaining 34% in a testing dataset (call this \"bdata_test\")\n"
   ]
  },
  {
   "cell_type": "code",
   "execution_count": 14,
   "metadata": {},
   "outputs": [],
   "source": [
    "# leave the following line untouched, it will help ensure that your \"random\" split is the same \"random\" split used by the rest of the class\n",
    "np.random.seed(seed=13579)\n",
    "\n",
    "r = bdata2.shape[0]\n",
    "test_size = int(r*0.66)\n",
    "df_test_indices = np.random.choice(range(0, r), size = test_size, replace=False)\n",
    "\n",
    "bdata_train = bdata2.iloc[df_test_indices, ]\n",
    "bdata_test = bdata2.iloc[~bdata2.index.isin(df_test_indices)]\n",
    "bdata_target_train = bdata2_target.iloc[df_test_indices, ]\n",
    "bdata_target_test = bdata2_target.iloc[~bdata2_target.index.isin(df_test_indices)]"
   ]
  },
  {
   "cell_type": "markdown",
   "metadata": {},
   "source": [
    "###2.3 Use a very bad baseline for prediction, and compute RMSE\n",
    "\n",
    "Create a model that predicts, for every observation x_i, that the median home value is the average (mean) of the median values for all instances in the training set.  Compute the RMSE on the training set.  Now compute the RMSE on the test data set (but use the model you trained on the training set!).  How does RMSE compare for training vs. testing datasets? Is this what you expected, and why?"
   ]
  },
  {
   "cell_type": "code",
   "execution_count": 15,
   "metadata": {},
   "outputs": [
    {
     "name": "stdout",
     "output_type": "stream",
     "text": [
      "RMSE on Training Data:  8.584967883775533\n",
      "RMSE on Testing Data:  10.281671624776735\n"
     ]
    }
   ],
   "source": [
    "def model(df , computed):\n",
    "    MD = list()\n",
    "    mean_of_MDEV = computed\n",
    "    for i in range(len(df)):\n",
    "        MD.append(mean_of_MDEV)\n",
    "    return MD\n",
    "\n",
    "computed_mean = bdata_target_train.mean()\n",
    "RMSE_Train = model(bdata_train, computed_mean)\n",
    "rmse1 = compute_rmse(RMSE_Train, np.array(bdata_target_train))\n",
    "print(\"RMSE on Training Data: \", rmse1)\n",
    "\n",
    "RMSE_Test = model(bdata_test, computed_mean)\n",
    "rmse2 = compute_rmse(RMSE_Test, np.array(bdata_target_test))\n",
    "print(\"RMSE on Testing Data: \", rmse2)"
   ]
  },
  {
   "cell_type": "code",
   "execution_count": null,
   "metadata": {},
   "outputs": [],
   "source": []
  },
  {
   "cell_type": "markdown",
   "metadata": {},
   "source": [
    "*Enter your observations here*"
   ]
  },
  {
   "cell_type": "markdown",
   "metadata": {},
   "source": [
    "---\n",
    "\n",
    "##Part 3: Nearest Neighbors\n"
   ]
  },
  {
   "cell_type": "markdown",
   "metadata": {},
   "source": [
    "###3.1 Nearest Neighbors: Distance function\n",
    "Let's try and build a machine learning algorithm to beat the \"Average Value\" baseline that you computed above.  Soon you will implement the Nearest Neighbor algorithm, but first you need to create a distance metric to measure the distance (and similarity) between two instances.  Write a generic function to compute the L-Norm distance (called the [*p*-norm](http://en.wikipedia.org/wiki/Norm_(mathematics) distance on Wikipedia). Verify that your function works by computing the Euclidean distance between the points (3,4) and (6,8)."
   ]
  },
  {
   "cell_type": "code",
   "execution_count": 16,
   "metadata": {},
   "outputs": [
    {
     "name": "stdout",
     "output_type": "stream",
     "text": [
      "5\n"
     ]
    }
   ],
   "source": [
    "\"\"\"\n",
    "Function\n",
    "--------\n",
    "distance\n",
    "\n",
    "Given two instances and a value for L, return the L-Norm distance between them\n",
    "\n",
    "Parameters\n",
    "----------\n",
    "x1, x2 : array\n",
    "    Array of numerical values corresponding to predictions for each of the N observations\n",
    "\n",
    "L: int\n",
    "    Value of L to use in computing distances\n",
    "\n",
    "Returns\n",
    "-------\n",
    "dist : int\n",
    "    The L-norm distance between instances\n",
    "\n",
    "Example\n",
    "-------\n",
    ">>> print distance((3,4),(6,8),2)\n",
    "5\n",
    "\n",
    "\"\"\"\n",
    "def distance(x1, x2, L):\n",
    "    length = len(x1)\n",
    "    n = 1\n",
    "    if(L == 0):\n",
    "        return 1\n",
    "    total_dist = 0\n",
    "    total_dist2 = 0\n",
    "    for i in range(len(x1)):\n",
    "        total_dist = ((abs(x1[i]-x2[i]))**L)\n",
    "        total_dist2 = total_dist2 + total_dist\n",
    "        dist = pow(total_dist2,(1/L))\n",
    "    return int(dist)\n",
    "\n",
    "dist = distance((3,4),(6,8),2)\n",
    "print(dist)"
   ]
  },
  {
   "cell_type": "markdown",
   "metadata": {},
   "source": [
    "###3.2 Basic Nearest Neighbor algorithm\n",
    "\n",
    "Now things get fun.  Your task is to implement a basic nearest neighbor algorithm from scratch.  Your simple model will use two input features (CRIM and RM) and a single output (MEDV).  In other words, you are modelling the relationship between median home value and crime rates and house size.\n",
    "\n",
    "Use your training data (bdata_train) to \"fit\" your model, although as you know, with Nearest Neighbors there is no real training, you just need to keep your training data in memory.  Write a function that predicts, for each instance in the testing data (bdata_test), the median home value using the nearest neighbor algorithm we discussed in class.  Since this is a small dataset, you can simply compare your test instance to every instance in the training set, and return the MEDV value of the closest training instance.  Have your function take L as an input, where L is passed to the distance function.\n",
    "\n",
    "Compute the RMSE for the Nearest Neighbor predictions on the test set, using the Euclidean distance.  Report an estimate of the total time taken by your code to predict the nearest neighbors for all the values in the test data set."
   ]
  },
  {
   "cell_type": "code",
   "execution_count": 354,
   "metadata": {},
   "outputs": [
    {
     "name": "stdout",
     "output_type": "stream",
     "text": [
      "8.529459320530114\n"
     ]
    }
   ],
   "source": [
    "\"\"\"\n",
    "# write your function specification here!\n",
    "\"\"\"\n",
    "from collections import OrderedDict\n",
    "import time\n",
    "\n",
    "test1 = bdata_test['CRIM'].tolist()\n",
    "test2 = bdata_test['RM'].tolist()\n",
    "#test3 = bdata_target_test['MEDV'].tolist()\n",
    "\n",
    "test = pd.DataFrame({'CRIM':test1, 'RM':test2})\n",
    "\n",
    "train1 = bdata_train['CRIM'].tolist()\n",
    "train2 = bdata_train['RM'].tolist()\n",
    "#train3 = bdata_target_train['MEDV'].tolist()\n",
    "\n",
    "train = pd.DataFrame({'CRIM':train1, 'RM':train2})\n",
    "\n",
    "def nneighbor(df1, df2, df3, df4, L, k):\n",
    "    start_time = time.time()\n",
    "    MEDV = list()\n",
    "    new_dict = dict()\n",
    "    test = df1.values\n",
    "    train = df2.values\n",
    "    to_array_df3 = df3.values\n",
    "    for idx, val in enumerate(test):\n",
    "        for idx2, val2 in enumerate(train):\n",
    "            dist = distance(test[idx], train[idx2], L)\n",
    "            new_dict[idx2] = dist\n",
    "        sorted_dict = OrderedDict(sorted(new_dict.items(),key=lambda x: x[1] ))\n",
    "        ks = list(sorted_dict)\n",
    "        index_of_min_train = ks[0]\n",
    "        index_list=list()\n",
    "        index_list.append(ks[0:k])\n",
    "        index_final = index_list[0][:]\n",
    "        total = 0\n",
    "        for j in index_final:\n",
    "            total = total + to_array_df3[j]\n",
    "        mean_of_k_nearest = total/k\n",
    "        MEDV.append(mean_of_k_nearest)\n",
    "        #print(index_final)\n",
    "        #MEDV.append(to_array_df3[index_of_min_train])\n",
    "        new_dict = dict()\n",
    "        index_list=list()\n",
    "    \n",
    "    rmse = compute_rmse(MEDV, np.array(df4))\n",
    "    return rmse\n",
    "\n",
    "rmse_knn = nneighbor(test, train, bdata_target_train,bdata_target_test, 2, 1)\n",
    "print(rmse_knn)"
   ]
  },
  {
   "cell_type": "markdown",
   "metadata": {},
   "source": [
    "###3.3 Results and Normalization\n",
    "\n",
    "If you were being astute, you would have noticed that we never normalized our features -- a big no-no with Nearest Neighbor algorithms.  Write a generic normalization function that takes as input an array of values for a given feature, and returns the normalized array (subtract the mean and divide by the standard deviation).\n",
    "\n",
    "Re-run the Nearest Neighbor algorithm on the normalized dataset (still just using CRIM and RM as input), and compare the RMSE from this method with your previous RMSE evaluations.\n",
    "\n",
    "*NOTE*: To normalize properly, best practice is to compute the mean and standard deviation on the training set, and use these values to normalize the testing dataset. However, for this problem set, it is okay if you separately normalize each dataset using the respective mean and standard deviation."
   ]
  },
  {
   "cell_type": "code",
   "execution_count": 355,
   "metadata": {},
   "outputs": [
    {
     "name": "stdout",
     "output_type": "stream",
     "text": [
      "0.8142267854185723\n"
     ]
    }
   ],
   "source": [
    "\"\"\"\n",
    "# write your function specification here!\n",
    "\"\"\"\n",
    "def normalize(raw_data):\n",
    "    normalized_data = (raw_data-np.mean(raw_data))/float(np.std(raw_data))\n",
    "    return normalized_data       \n",
    "\n",
    "test_data1 = bdata_test['CRIM'].tolist()\n",
    "test_data2 = np.array(bdata_test['RM'])\n",
    "test1 = normalize(test_data1)\n",
    "test2 = normalize(test_data2)\n",
    "\n",
    "test_CRIM_RM = pd.DataFrame({'CRIM':test1, 'RM':test2})\n",
    "\n",
    "train_data1 = bdata_train['CRIM'].tolist()\n",
    "train_data2 = np.array(bdata_train['RM'])\n",
    "train1 = normalize(train_data1)\n",
    "train2 = normalize(train_data2)\n",
    "\n",
    "train_CRIM_RM = pd.DataFrame({'CRIM':train1, 'RM':train2})\n",
    "\n",
    "normalized_target = np.array(bdata_target_train)\n",
    "bdata2_target_train = normalize(normalized_target)\n",
    "bdata_target_training = pd.DataFrame(bdata2_target_train)\n",
    "\n",
    "normalized_target_test = np.array(bdata_target_test)\n",
    "bdata2_target_test = normalize(normalized_target_test)\n",
    "bdata_target_testing = pd.DataFrame(bdata2_target_test)\n",
    "\n",
    "rmse_normalized_knn = nneighbor(test_CRIM_RM, train_CRIM_RM, bdata_target_training,bdata_target_testing, 2,1)\n",
    "print(rmse_normalized_knn)"
   ]
  },
  {
   "cell_type": "markdown",
   "metadata": {},
   "source": [
    "*enter your observations here*"
   ]
  },
  {
   "cell_type": "markdown",
   "metadata": {},
   "source": [
    "###3.4 Optimization\n",
    "\n",
    "A lot of the decisions we've made so far have been arbitrary.  Try to increase the performance of your nearest neighbor algorithm by adding features that you think might be relevant, and by using different values of L in the distance function.  Try a model that uses a different set of 2 features, then try at least one model that uses more than 4 features, then try using a different value of L.  If you're having fun, try a few different combinations of features and L!\n",
    "\n",
    "What combination of features and distance function provide the lowest RMSE?  Do your decisions affect the running time of the algorithm?"
   ]
  },
  {
   "cell_type": "code",
   "execution_count": 356,
   "metadata": {},
   "outputs": [
    {
     "name": "stdout",
     "output_type": "stream",
     "text": [
      "0.9337215657434479\n",
      "0.8590866614907307\n",
      "0.8653913677823731\n"
     ]
    }
   ],
   "source": [
    "#For 2 features\n",
    "test_data1 = bdata_test['RM'].tolist()\n",
    "test_data2 = np.array(bdata_test['NOX'])\n",
    "test1 = normalize(test_data1)\n",
    "test2 = normalize(test_data2)\n",
    "\n",
    "test = pd.DataFrame({'RM':test1, 'NOX':test2})\n",
    "\n",
    "train_data1 = bdata_train['RM'].tolist()\n",
    "train_data2 = np.array(bdata_train['NOX'])\n",
    "train1 = normalize(train_data1)\n",
    "train2 = normalize(train_data2)\n",
    "\n",
    "train = pd.DataFrame({'RM':train1, 'NOX':train2})\n",
    "\n",
    "rmse_normalized_knn = nneighbor(test, train, bdata_target_training,bdata_target_testing, 2,1)\n",
    "print(rmse_normalized_knn)\n",
    "\n",
    "#For 4 features\n",
    "\n",
    "test_data1 = bdata_test['RM'].tolist()\n",
    "test_data2 = bdata_test['NOX'].tolist()\n",
    "test_data3 = bdata_test['RAD'].tolist()\n",
    "test_data4 = bdata_test['TAX'].tolist()\n",
    "test_data5 = bdata_test['DIS'].tolist()\n",
    "test1 = normalize(test_data1)\n",
    "test2 = normalize(test_data2)\n",
    "test3 = normalize(test_data3)\n",
    "test4 = normalize(test_data4)\n",
    "test5 = normalize(test_data5)\n",
    "\n",
    "test = pd.DataFrame({'RM':test1, 'NOX':test2, 'RAD':test3, 'TAX':test4, 'DIS':test5})\n",
    "\n",
    "train_data1 = bdata_train['RM'].tolist()\n",
    "train_data2 = bdata_train['NOX'].tolist()\n",
    "train_data3 = bdata_train['RAD'].tolist()\n",
    "train_data4 = bdata_train['TAX'].tolist()\n",
    "train_data5 = bdata_train['DIS'].tolist()\n",
    "train1 = normalize(train_data1)\n",
    "train2 = normalize(train_data2)\n",
    "train3 = normalize(train_data3)\n",
    "train4 = normalize(train_data4)\n",
    "train5 = normalize(train_data5)\n",
    "\n",
    "train = pd.DataFrame({'RM':train1, 'NOX':train2, 'RAD':train3, 'TAX':train4, 'DIS': train5})\n",
    "\n",
    "rmse_normalized_knn = nneighbor(test, train, bdata_target_training,bdata_target_testing, 2,1)\n",
    "print(rmse_normalized_knn)\n",
    "\n",
    "#Different Value of L with L=1\n",
    "test_data1 = bdata_test['RM'].tolist()\n",
    "test_data2 = np.array(bdata_test['NOX'])\n",
    "test1 = normalize(test_data1)\n",
    "test2 = normalize(test_data2)\n",
    "\n",
    "test = pd.DataFrame({'RM':test1, 'NOX':test2})\n",
    "\n",
    "train_data1 = bdata_train['RM'].tolist()\n",
    "train_data2 = np.array(bdata_train['NOX'])\n",
    "train1 = normalize(train_data1)\n",
    "train2 = normalize(train_data2)\n",
    "\n",
    "train = pd.DataFrame({'RM':train1, 'NOX':train2})\n",
    "\n",
    "rmse_normalized_knn = nneighbor(test, train, bdata_target_training,bdata_target_testing, 1,1)\n",
    "print(rmse_normalized_knn)"
   ]
  },
  {
   "cell_type": "markdown",
   "metadata": {},
   "source": [
    "*enter your observations here*"
   ]
  },
  {
   "cell_type": "markdown",
   "metadata": {},
   "source": [
    "### 3.5 Cross-Validation\n",
    "\n",
    "The more you tinkered with your features and distance function, the higher the risk that you overfit your training data.  To prevent this sort of overfitting, you need to use cross-validation (see K-fold [cross-validation](http://en.wikipedia.org/wiki/Cross-validation_(statistics)).  Here you must implement a simple k-fold cross-validation algorithm yourself.  The function you write here will be used several more times in this problem set, so do your best to write efficient code! (Note that the sklearn package has a built-in [K-fold](http://scikit-learn.org/stable/modules/cross_validation.html#cross-validation) iterator -- you should *not* be invoking that or any related algorithms in this section of the problem set.)\n",
    "\n",
    "Use 10-fold cross-validation and report the average RMSE for Nearest Neighbors using Euclidean distance with CRIM and RM input features, as well as the total running time for the full run of 10 folds.  In other words, randomly divide your dataset into 10 equally-sized samples, and for each of 10 iterations (the \"folds\"), use 9 samples as \"training data\" (even though there is no training in k-NN!), and the remaining 1 sample for testing.  Compute the RMSE of that particular test set, then move on to the next iteration.  Report the average RMSE across the 10 iterations."
   ]
  },
  {
   "cell_type": "code",
   "execution_count": 357,
   "metadata": {},
   "outputs": [
    {
     "name": "stdout",
     "output_type": "stream",
     "text": [
      "Average RMSE is  0.7294003791825328\n",
      "Total Time taken for CV  0.9593501091003418\n"
     ]
    }
   ],
   "source": [
    "# Creating functions to get indices of k-fold data\n",
    "def separate(l, n):\n",
    "    for i in range(0, len(l), n):\n",
    "        yield l[i:i+n]        \n",
    "        \n",
    "# K-fold cross validation function \n",
    "def kfoldcv(data, data2, fold, L, K):\n",
    "    \n",
    "    # Creating buckets each with indices\n",
    "    buckets = list(separate(list(range(len(data))),int(len(data)/fold)))\n",
    "    \n",
    "    # Making sure that the we only have K buckets. \n",
    "    if len(buckets) > fold:\n",
    "        buckets[fold-1] = buckets[fold-1] + buckets[fold]\n",
    "        buckets.remove(buckets[fold])\n",
    "     \n",
    "    rmse = []\n",
    "    \n",
    "    # Splitting data into train and test using 'k-1' folds for train and 1 fold for test\n",
    "    for i in range(fold):\n",
    "        test_ind = buckets[i]\n",
    "        train_ind = range(len(data))\n",
    "        train_ind = [elem for elem in train_ind if elem not in test_ind]\n",
    "        \n",
    "        train = data.iloc[train_ind,]\n",
    "        test = data.iloc[test_ind,]\n",
    "        train_target = data2.iloc[train_ind,]\n",
    "        test_target = data2.iloc[test_ind, ]\n",
    "        \n",
    "        # Calculate the RMSE of each of the k-folds using the function specified at the input\n",
    "        rmse.append(nneighbor(test, train, train_target, test_target, 2, K))\n",
    "        average_rmse = np.mean(rmse)\n",
    "        \n",
    "    # Return the mean of the all the RMSE of the K-fold CV\n",
    "    return average_rmse\n",
    "    \n",
    "start_time = time.time()\n",
    "np.random.seed(seed=13579)\n",
    "\n",
    "bdata3 = bdata2.reindex(np.random.permutation(bdata2.index))\n",
    "bdata3_target = bdata2_target.iloc[bdata3.index, ]\n",
    "\n",
    "bdata2_CRIM_RM = bdata3[['CRIM','RM']].copy()\n",
    "trainin_data1 = bdata2_CRIM_RM['CRIM'].tolist()\n",
    "trainin_data2 = bdata2_CRIM_RM['RM'].tolist()\n",
    "trainin1 = normalize(trainin_data1)\n",
    "trainin2 = normalize(trainin_data2)\n",
    "\n",
    "bdata_CRIM_RM = pd.DataFrame({'CRIM':trainin1, 'RM':trainin2})\n",
    "\n",
    "testin_data1 = bdata3_target.values\n",
    "testin1 = normalize(testin_data1)\n",
    "\n",
    "bdata_target= pd.DataFrame(testin1)\n",
    "\n",
    "avg_rmse = kfoldcv(bdata_CRIM_RM, bdata_target, 10, 2, 1)\n",
    "\n",
    "# Print average RMSE for whole k- fold CV\n",
    "print(\"Average RMSE is \", avg_rmse)\n",
    "    \n",
    "# Total time taken for the CV\n",
    "print(\"Total Time taken for CV \", (time.time()-start_time))"
   ]
  },
  {
   "cell_type": "markdown",
   "metadata": {},
   "source": [
    "###3.6 K-Nearest Neighbors Algorithm\n",
    "\n",
    "Implement the K-Nearest Neighbors algorithm.  Using 10-fold cross validation, report the RMSE for K=3 and the running time of the algorithm."
   ]
  },
  {
   "cell_type": "code",
   "execution_count": 358,
   "metadata": {},
   "outputs": [
    {
     "name": "stdout",
     "output_type": "stream",
     "text": [
      "Average RMSE is  0.6133713997877843\n",
      "Total Time taken for CV  6.333705902099609\n"
     ]
    }
   ],
   "source": [
    "\"\"\"\n",
    "# write your function specification here!\n",
    "\"\"\"\n",
    "def knn(data1, data2, L, K):\n",
    "    \n",
    "    avg_rmse_k = kfoldcv(data1, data2, 10, L, K)\n",
    "    \n",
    "    return avg_rmse_k\n",
    "\n",
    "average_rmse_for_k3 = knn(bdata_CRIM_RM,bdata_target, 2,3) \n",
    "\n",
    "# Print average RMSE for whole k- fold CV\n",
    "print(\"Average RMSE is \", average_rmse_for_k3)\n",
    "    \n",
    "# Total time taken for the CV\n",
    "print(\"Total Time taken for CV \", (time.time()-start_time))"
   ]
  },
  {
   "cell_type": "markdown",
   "metadata": {},
   "source": [
    "###3.7 Using cross validation to find K\n",
    "\n",
    "What is the best choice of K?  Compute the RMSE for values of K between 1 and 25 using 10-fold cross-validation.  Use the following features in your model, and don't forget to normalize: CRIM, ZN, RM, AGE, DIS, TAX.  Create a graph that shows how RMSE changes as K increases from 1 to 25.  Label your axes, and summarize what you see.  What do you think is a reasonable choice of K for this model?"
   ]
  },
  {
   "cell_type": "code",
   "execution_count": 359,
   "metadata": {},
   "outputs": [
    {
     "data": {
      "image/png": "[encoded data removed]",
      "text/plain": [
       "<Figure size 936x360 with 1 Axes>"
      ]
     },
     "metadata": {
      "needs_background": "light"
     },
     "output_type": "display_data"
    }
   ],
   "source": [
    "rmse_list=list()\n",
    "K_list=list()\n",
    "\n",
    "bdata2_features = bdata3[['CRIM','ZN','RM','AGE','DIS','TAX']].copy()\n",
    "trainin_data1 = bdata2_features['CRIM'].tolist()\n",
    "trainin_data2 = bdata2_features['ZN'].tolist()\n",
    "trainin_data3 = bdata2_features['RM'].tolist()\n",
    "trainin_data4 = bdata2_features['AGE'].tolist()\n",
    "trainin_data5 = bdata2_features['DIS'].tolist()\n",
    "trainin_data6 = bdata2_features['TAX'].tolist()\n",
    "\n",
    "trainin1 = normalize(trainin_data1)\n",
    "trainin2 = normalize(trainin_data2)\n",
    "trainin3 = normalize(trainin_data3)\n",
    "trainin4 = normalize(trainin_data4)\n",
    "trainin5 = normalize(trainin_data5)\n",
    "trainin6 = normalize(trainin_data6)\n",
    "\n",
    "bdata_features = pd.DataFrame({'CRIM':trainin1, 'ZN':trainin2, 'RM':trainin3, 'AGE':trainin4, 'DIS':trainin5, 'TAX':trainin6})\n",
    "\n",
    "testin_data1 = bdata3_target.values\n",
    "testin1 = normalize(testin_data1)\n",
    "\n",
    "bdata_target= pd.DataFrame(testin1)\n",
    "\n",
    "for i in range(1,25):\n",
    "    rmse_list.append(knn(bdata_features, bdata_target, 2,i))\n",
    "    K_list.append(i)\n",
    "\n",
    "plt.figure(figsize=(13,5))\n",
    "plot = plt.plot( K_list,rmse_list, color = 'r')\n",
    "plt.axhline(y = min(rmse_list), c = 'b', alpha = 0.3)\n",
    "plt.title('RMSE vs K for KNN algorithm')\n",
    "plt.xlabel('K value')\n",
    "plt.ylabel('Avergae RMSE')\n",
    "plt.show()"
   ]
  },
  {
   "cell_type": "code",
   "execution_count": null,
   "metadata": {},
   "outputs": [],
   "source": []
  },
  {
   "cell_type": "markdown",
   "metadata": {},
   "source": [
    "*Enter your observations here*"
   ]
  }
 ],
 "metadata": {
  "kernelspec": {
   "display_name": "Python 3",
   "language": "python",
   "name": "python3"
  },
  "language_info": {
   "codemirror_mode": {
    "name": "ipython",
    "version": 3
   },
   "file_extension": ".py",
   "mimetype": "text/x-python",
   "name": "python",
   "nbconvert_exporter": "python",
   "pygments_lexer": "ipython3",
   "version": "3.7.1"
  }
 },
 "nbformat": 4,
 "nbformat_minor": 1
}
