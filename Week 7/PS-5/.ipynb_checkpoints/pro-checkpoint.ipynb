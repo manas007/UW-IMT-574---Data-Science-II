{
 "cells": [
  {
   "cell_type": "markdown",
   "metadata": {},
   "source": [
    "# Problem Set 5, due June 4 at 5:30 pm.\n",
    "\n",
    "As usual, you are highly encouraged to *start this problem set early!*  My best guess (no guarantees!) is that Part 1 will be conceptually easy but perhaps time consuming.  Parts 2 and 3 are medium difficult, but there are plenty of opportunities to get confused with python data structures, so if you're going to get stuck, get stuck (and unstuck) early! Part 4 will give you an opportunity to get some intuition with PCA.\n",
    "\n",
    "Note that the two extra credit problems have the potential to be quite challenging and time consuming. Make sure to do everything else in the problem set before you tackle the extra credit.\n",
    "\n",
    "To get started, download the files \"reviews.csv\" and \"movies.dat\" from Canvas.\n",
    "\n",
    "For this assignment, the following libraries may be useful:\n",
    "\n",
    "* [numpy](http://docs.scipy.org/doc/numpy-dev/user/index.html), for arrays\n",
    "* [scikit-learn](http://scikit-learn.org/stable/), for machine learning\n",
    "* [pandas](http://pandas.pydata.org/), for data frames\n",
    "* [matplotlib](http://matplotlib.org/), for plotting\n",
    "\n",
    "In particular, I suggest you familiarize yourself with the following aspects of these libraries, which are not required but which might make your life easier:\n",
    "\n",
    "* `DataFrame` and other basic [data structures](http://pandas.pydata.org/pandas-docs/stable/dsintro.html) in pandas\n",
    "* [`groupby`](http://pandas.pydata.org/pandas-docs/stable/groupby.html), `unique`,  and other simple aggregation functions\n",
    "* [`CountVectorizer`](http://scikit-learn.org/stable/modules/generated/sklearn.feature_extraction.text.CountVectorizer.html) for working with text in sklearn.\n",
    "* [`MultinomialNB`](http://scikit-learn.org/stable/modules/generated/sklearn.naive_bayes.MultinomialNB.html) for Naive Bayes\n",
    "* Simple tools for [Cross-Validation](http://scikit-learn.org/stable/modules/cross_validation.html) in sklearn\n",
    "\n",
    "Make sure they load properly with the following code block:"
   ]
  },
  {
   "cell_type": "code",
   "execution_count": 1,
   "metadata": {},
   "outputs": [],
   "source": [
    "#!/usr/bin/env python3\n",
    "\n",
    "# Ignore deprecation warnings for few functions used\n",
    "import warnings\n",
    "warnings.filterwarnings(\"ignore\")"
   ]
  },
  {
   "cell_type": "code",
   "execution_count": 3,
   "metadata": {},
   "outputs": [],
   "source": [
    "%matplotlib inline\n",
    "import pandas as pd\n",
    "import numpy as np\n",
    "import matplotlib.pyplot as plt\n",
    "\n",
    "#hint: Consult the scikit-learn documentation to\n",
    "#      learn about what these classes do do\n",
    "from sklearn.model_selection import cross_val_score\n",
    "from sklearn.model_selection import train_test_split\n",
    "from sklearn.naive_bayes import MultinomialNB\n",
    "from sklearn.feature_extraction.text import CountVectorizer\n",
    "import statsmodels.formula.api as smf\n",
    "from sklearn.metrics import mean_squared_error\n",
    "from sklearn.preprocessing import StandardScaler\n",
    "from sklearn.decomposition import PCA\n",
    "from sklearn import preprocessing\n",
    "from sklearn.model_selection import KFold\n",
    "from sklearn.metrics import confusion_matrix\n",
    "from sklearn.model_selection import cross_val_score\n",
    "from sklearn.metrics import roc_auc_score, make_scorer"
   ]
  },
  {
   "cell_type": "markdown",
   "metadata": {},
   "source": [
    "## Introduction to the assignment\n",
    "\n",
    "In this assignment, you'll be analyzing movie reviews in an attempt to determine whether movies are good or bad.  I've downloaded a large number of movie reviews from the [Rotten Tomatoes](http://www.rottentomatoes.com) website, which are available in the file \"reviews.csv\" on Canvas.  I've also put a file \"movies.dat\" on Canvas that contains metadata for ~65,000 different movies\n",
    "\n",
    "If you've never seen Rotten Tomatoes before, go spend a few minutes familiarizing yourself with the website.  It's a meta-review website that aggregates movie reviews from a large number of critics.  Here's what the page for this year's likely [Oscar winner](http://www.rottentomatoes.com/m/the_revenant_2015/) looks like.  Note in particular the section on \"Critic Reviews\" at the bottom -- that's the content that has been scraped and put in the reviews.csv file.  Also note that each movie is given a quantitative score on the Tomatometer which is used to classify the movie as either Fresh (good) or Rotten (bad).\n",
    "\n",
    "Your mission is to develop a classifier to determine whether a movie is Fresh or Rotten based on the contents of the reviews given to the movie.  As usual, we'll start out with some exploratory data analysis."
   ]
  },
  {
   "cell_type": "markdown",
   "metadata": {},
   "source": [
    "---\n",
    "\n",
    "## Part 1: Descriptive analysis\n",
    "\n",
    "Before beginning the \"real\" work, dig into the data a bit do see what you're dealing with.  Begin by loading the datasets and dropping rows that have missing data:"
   ]
  },
  {
   "cell_type": "code",
   "execution_count": 3,
   "metadata": {},
   "outputs": [],
   "source": [
    "# Read reviews.csv and movies.dat\n",
    "reviews = pd.read_csv('reviews.csv')\n",
    "movies = pd.read_csv(\"movies.dat\", delimiter='\\t')"
   ]
  },
  {
   "cell_type": "code",
   "execution_count": 4,
   "metadata": {},
   "outputs": [],
   "source": [
    "# Data clean\n",
    "reviews = reviews[~reviews['quote'].isnull()]\n",
    "reviews = reviews[reviews['fresh'] != 'none']\n",
    "reviews = reviews[reviews.quote.str.len() >= 1]\n",
    "movies = movies[movies['rtAllCriticsRating'] != \"\\\\N\"]"
   ]
  },
  {
   "cell_type": "markdown",
   "metadata": {},
   "source": [
    "### 1.1: Basic features of the dataset\n",
    "\n",
    "Answer the following questions by having your python code directly print the answers:\n",
    "\n",
    "* How many unique reviews (quotes) are in the `reviews` dataset?\n",
    "* How many unique reviewers (critics) are in the `reviews` dataset?\n",
    "* How many unique movies are in the `reviews` dataset?\n",
    "* How many unique movies are in the *`movies`* dataset?\n",
    "* How many different publications have reviews in the `reviews` dataset?\n"
   ]
  },
  {
   "cell_type": "code",
   "execution_count": 5,
   "metadata": {},
   "outputs": [
    {
     "name": "stdout",
     "output_type": "stream",
     "text": [
      "Number of reviews are 13419\n",
      "Unique reviews (quotes) in the reviews dataset are 12814\n",
      "Unique reviewers (critics) in the reviews dataset are 541\n",
      "Unique movies in the reviews dataset are 1720\n",
      "Unique movies in the movies dataset are 9203\n",
      "Different publications that have reviews in the reviews dataset are 64\n"
     ]
    }
   ],
   "source": [
    "quotes_reviews = pd.unique(reviews['quote']).size\n",
    "critics_reviews = pd.unique(reviews['critic']).size\n",
    "movies_reviews = pd.unique(reviews['rtid']).size\n",
    "movies_movies = pd.unique(movies['imdbID']).size\n",
    "publication_reviews = pd.unique(reviews['publication'].str.lower()).size\n",
    "\n",
    "print('Number of reviews are {0}'.format(len(reviews)))\n",
    "print('Unique reviews (quotes) in the reviews dataset are {0}'.format(quotes_reviews))\n",
    "print('Unique reviewers (critics) in the reviews dataset are {0}'.format(critics_reviews))\n",
    "print('Unique movies in the reviews dataset are {0}'.format(movies_reviews))\n",
    "print('Unique movies in the movies dataset are {0}'.format(movies_movies))\n",
    "print('Different publications that have reviews in the reviews dataset are {0}'.format(publication_reviews))"
   ]
  },
  {
   "cell_type": "markdown",
   "metadata": {},
   "source": [
    "### 1.2 Number of reviews per reviewer\n",
    "\n",
    "Using the `reviews` dataset, create a histogram showing the distribution of the number of reviews per reviewer.  Create the bin width (x-axis) to be 1 unit wide, and the range of the axis to be from 0 to 30.  Scale the y-axis to show the logarithm of (count of) the number of reviews.  Label your axes and make your histogram look professional."
   ]
  },
  {
   "cell_type": "code",
   "execution_count": 6,
   "metadata": {},
   "outputs": [
    {
     "data": {
      "image/png": "[encoded data removed]",
      "text/plain": [
       "<Figure size 800x500 with 1 Axes>"
      ]
     },
     "metadata": {
      "needs_background": "light"
     },
     "output_type": "display_data"
    }
   ],
   "source": [
    "grouped = pd.DataFrame(reviews.groupby(['critic'])['quote'].count())\n",
    "grouped.reset_index(level = 0, inplace = True)\n",
    "\n",
    "# Set figure size and dpi\n",
    "plt.figure(num = None, figsize = (8, 5), dpi = 100)\n",
    "\n",
    "# Scale y-axis to show the logarithm of (count of) the number of reviews\n",
    "plt.yscale('log', nonposy='clip')\n",
    "\n",
    "# Histogram plot\n",
    "plt.hist(grouped['quote'], bins = np.arange(1, 30 + 1, 1), range = [0, 30])\n",
    "\n",
    "# Add title and labels to the x and y axes\n",
    "plt.title('Number of reviews per reviewer')\n",
    "plt.xlabel('Reviewer')\n",
    "plt.ylabel('No. of observations')\n",
    "\n",
    "\n",
    "# Remove the axes on the top and right side of the plot window\n",
    "ax = plt.gca()\n",
    "ax.spines['top'].set_visible(False)\n",
    "ax.spines['right'].set_visible(False)\n",
    "\n",
    "plt.show()"
   ]
  },
  {
   "cell_type": "code",
   "execution_count": 7,
   "metadata": {},
   "outputs": [],
   "source": [
    "g = reviews.groupby(['critic'])['quote'].count()\n",
    "c = pd.DataFrame({'reviewer':g.index, 'freq':g.values})"
   ]
  },
  {
   "cell_type": "code",
   "execution_count": 8,
   "metadata": {},
   "outputs": [],
   "source": [
    "grouped = reviews.groupby(['critic'])['quote'].count()\n",
    "group = grouped.tolist()\n",
    "from math import log\n",
    "logged = [log(y,10) for y in group]"
   ]
  },
  {
   "cell_type": "markdown",
   "metadata": {},
   "source": [
    "### 1.3 Zoom in on a few reviewers\n",
    "Find the 30 critics with the most reviews, and list their names in a table along with (a) the name of the publication they work for, (b) the date of their first review, and (c) the date of their last review\n",
    "\n",
    "*hint: use the groupby function to do this quickly*"
   ]
  },
  {
   "cell_type": "code",
   "execution_count": 9,
   "metadata": {},
   "outputs": [],
   "source": [
    "result_dictionary = {}\n",
    "author_start_end = {}\n",
    "\n",
    "critics_with_most_reviews = reviews.groupby(['critic'])['fresh'].count().reset_index(name = 'count').sort_values(['count'], ascending = False).head(30)\n",
    "critics_data_reviews = reviews.loc[reviews['critic'].isin(critics_with_most_reviews['critic'].values)]\n",
    "\n",
    "group_by_publication = critics_data_reviews.groupby(['critic','publication'])\n",
    "publications = list(group_by_publication.groups.keys())\n",
    "\n",
    "for publication in publications:\n",
    "    result_dictionary[publication[0]] = result_dictionary.get(publication[0] , '') +  publication[1] + ' '\n",
    "\n",
    "for author in critics_with_most_reviews['critic'].values:\n",
    "    author_start_end[author] = {'start_Date' : '', 'end_Date' : ''}\n",
    "    \n",
    "    if 'publication' not in author_start_end[author]:\n",
    "        publications = critics_data_reviews[critics_data_reviews['critic'] == author]['publication'].unique()\n",
    "        publications = np.apply_along_axis(lambda x: ', '.join(x), 0, publications)\n",
    "        author_start_end[author]['publication'] = publications\n",
    "    else:\n",
    "        continue"
   ]
  },
  {
   "cell_type": "code",
   "execution_count": 10,
   "metadata": {},
   "outputs": [
    {
     "name": "stdout",
     "output_type": "stream",
     "text": [
      "                    start_Date    end_Date  \\\n",
      "Bosley Crowther     2000-01-01  2008-05-06   \n",
      "Dave Kehr           2000-01-01  2013-11-20   \n",
      "Derek Adams         2006-01-26  2009-10-04   \n",
      "Desson Thomson      2000-01-01  2012-10-08   \n",
      "Edward Guthmann     2000-01-01  2003-04-04   \n",
      "Emanuel Levy        2000-01-01  2010-08-06   \n",
      "Geoff Andrew        2005-08-11  2012-04-05   \n",
      "Hal Hinson          2000-01-01  2013-06-26   \n",
      "James Berardinelli  1800-01-01  2012-02-07   \n",
      "Janet Maslin        2000-01-01  2010-09-07   \n",
      "Joe Baltake         2000-01-01  2013-08-04   \n",
      "Jonathan Rosenbaum  1988-07-11  2013-10-22   \n",
      "Kenneth Turan       2000-01-01  2013-10-05   \n",
      "Kevin Thomas        2000-01-01  2013-11-02   \n",
      "Liam Lacey          2001-08-24  2012-04-04   \n",
      "Lisa Schwarzbaum    1979-01-01  2012-08-15   \n",
      "Michael Wilmington  2000-01-01  2013-11-21   \n",
      "Mick LaSalle        2000-01-01  2009-11-25   \n",
      "Owen Gleiberman     1800-01-01  2011-09-07   \n",
      "Peter Stack         2000-01-01  2002-06-18   \n",
      "Richard Corliss     2003-12-16  2013-11-06   \n",
      "Richard Schickel    2000-01-01  2013-08-05   \n",
      "Rick Groen          2002-03-19  2009-08-14   \n",
      "Rita Kempley        2000-01-01  2013-11-02   \n",
      "Roger Ebert         2000-01-01  2013-06-11   \n",
      "Stephen Holden      2000-01-01  2009-02-06   \n",
      "Susan Stark         2000-01-01  2002-10-25   \n",
      "Todd McCarthy       2000-01-01  2012-10-09   \n",
      "Variety Staff       2001-02-13  2012-08-15   \n",
      "Vincent Canby       2000-01-01  2013-07-29   \n",
      "\n",
      "                                                                      publication  \n",
      "Bosley Crowther                                                    New York Times  \n",
      "Dave Kehr                    Chicago Reader, New York Daily News, Chicago Tribune  \n",
      "Derek Adams                                                              Time Out  \n",
      "Desson Thomson                                                    Washington Post  \n",
      "Edward Guthmann                                           San Francisco Chronicle  \n",
      "Emanuel Levy                                                              Variety  \n",
      "Geoff Andrew                                                             Time Out  \n",
      "Hal Hinson                                                        Washington Post  \n",
      "James Berardinelli                                                      ReelViews  \n",
      "Janet Maslin                                                       New York Times  \n",
      "Joe Baltake         Sacramento Bee, Passionate Moviegoer, Philadelphia Daily News  \n",
      "Jonathan Rosenbaum                                                 Chicago Reader  \n",
      "Kenneth Turan                                                   Los Angeles Times  \n",
      "Kevin Thomas                                                    Los Angeles Times  \n",
      "Liam Lacey                                                         Globe and Mail  \n",
      "Lisa Schwarzbaum                                             Entertainment Weekly  \n",
      "Michael Wilmington                             Chicago Tribune, Los Angeles Times  \n",
      "Mick LaSalle                                              San Francisco Chronicle  \n",
      "Owen Gleiberman                                              Entertainment Weekly  \n",
      "Peter Stack                                               San Francisco Chronicle  \n",
      "Richard Corliss                                                     TIME Magazine  \n",
      "Richard Schickel                                      TIME Magazine, The Atlantic  \n",
      "Rick Groen                                                         Globe and Mail  \n",
      "Rita Kempley                                                      Washington Post  \n",
      "Roger Ebert                                      Chicago Sun-Times, At the Movies  \n",
      "Stephen Holden                                                     New York Times  \n",
      "Susan Stark                                                          Detroit News  \n",
      "Todd McCarthy                                                             Variety  \n",
      "Variety Staff                                                             Variety  \n",
      "Vincent Canby                                                      New York Times  \n"
     ]
    }
   ],
   "source": [
    "def first_last(df):\n",
    "    return df.iloc[[0, -1]]\n",
    "\n",
    "critics_data_reviews_df = critics_data_reviews.groupby(['critic']).apply(lambda _df: _df.sort_values(by = ['review_date'], ascending = True))\n",
    "\n",
    "critics_data_reviews_df = critics_data_reviews_df.reset_index(drop = True)[['critic', 'review_date']]\n",
    "critics_data_reviews_df = critics_data_reviews_df.groupby(['critic']).apply(first_last).reset_index(drop = True)[['critic', 'review_date']]\n",
    "\n",
    "for index, row in critics_data_reviews_df.iterrows():\n",
    "    if index % 2 == 0:\n",
    "        author_start_end[row['critic']]['start_Date'] = pd.to_datetime(row['review_date']).date()  \n",
    "    else:\n",
    "        author_start_end[row['critic']]['end_Date'] = pd.to_datetime(row['review_date']).date()\n",
    "        \n",
    "result_df = pd.DataFrame.from_dict(author_start_end, orient= 'index')\n",
    "pd.set_option('max_colwidth', 1500)\n",
    "print(result_df)"
   ]
  },
  {
   "cell_type": "markdown",
   "metadata": {},
   "source": [
    "### 1.4 Ratings over time\n",
    "\n",
    "Using the `movies` dataset, create a plot that shows how the average rating per movie (rtAllCriticsRating) has evolved over time.  Do this by creating a scatterplot where the x-axis is the year in which the movie was released and the y-axis is rtAllCriticsRating.  Drop movies with 0 or unknown values to avoid biasing your results.  Then, create a scatterplot that has one <year,rating> point for each remaining movie, and pick an appropriate size/color/transparency for these points to ensure that the graph looks professional.  In other words, do not simply use the default settings, as this will produce a dense mess of dots that will be hard to interpret.  Finally, overlay on this scatterplot a line graph in orange showing how the average movie rating (the average of rtAllCriticsRating across all movies in a year) has changed over time.  Do you notice a trend?  What do you think it means?"
   ]
  },
  {
   "cell_type": "code",
   "execution_count": 11,
   "metadata": {},
   "outputs": [
    {
     "data": {
      "text/plain": [
       "(7752, 21)"
      ]
     },
     "execution_count": 11,
     "metadata": {},
     "output_type": "execute_result"
    }
   ],
   "source": [
    "def toFloat(value):\n",
    "    return float(value)\n",
    "\n",
    "movies['rtAllCriticsRating'] = movies['rtAllCriticsRating'].apply(toFloat)\n",
    "\n",
    "# Drop movies with 0 or unknown values to avoid biasing results\n",
    "movies = movies[(movies['rtAllCriticsRating'] > 0.0)]\n",
    "movies['rtAllCriticsRating'].astype('float')\n",
    "movies.shape"
   ]
  },
  {
   "cell_type": "code",
   "execution_count": 12,
   "metadata": {},
   "outputs": [
    {
     "data": {
      "image/png": "[encoded data removed]",
      "text/plain": [
       "<Figure size 1440x1296 with 1 Axes>"
      ]
     },
     "metadata": {
      "needs_background": "light"
     },
     "output_type": "display_data"
    }
   ],
   "source": [
    "rating_over_years_series = movies.groupby(['year'])['rtAllCriticsRating'].mean()\n",
    "fig, ax = plt.subplots(figsize= (20,18))\n",
    "x = rating_over_years_series.index\n",
    "y = rating_over_years_series.values\n",
    "ax.scatter(x, y, color = \"black\")\n",
    "for i, year in enumerate(rating_over_years_series.index):\n",
    "    ax.annotate(str(round(y[i],1)), (x[i], y[i]), fontsize=10)\n",
    "x_labels = range(min(x), max(x)+1, 10)\n",
    "plt.xticks(x_labels)\n",
    "ax.set(xlabel = 'Year', ylabel = 'Average All Critics Rating')\n",
    "ax.yaxis.label.set_size(20)\n",
    "ax.xaxis.label.set_size(20)\n",
    "ax.plot(x, y , c= \"orange\", marker='.', linestyle='-.')\n",
    "plt.show()"
   ]
  },
  {
   "cell_type": "markdown",
   "metadata": {},
   "source": [
    "**Answer**:\n",
    "Do you notice a trend?\n",
    "    - Yes, from the graph it is clear that the average critic rating has been declining with the movie release year.\n",
    "\n",
    "    \n",
    "What do you think it means?\n",
    "    - It means that critics rate old movies higher than the recent movies."
   ]
  },
  {
   "cell_type": "markdown",
   "metadata": {},
   "source": [
    "---\n",
    "\n",
    "## Part 2: Naive Bayes\n",
    "\n",
    "Now it gets fun!  You are going to use a [Naive Bayes classifier](https://en.wikipedia.org/wiki/Naive_Bayes_classifier) to build a prediction model for whether a review is fresh or rotten, depending on the text of the review. Review the assigned readings on Canvas, as well as the relevant lecture notes before embarking on this journey.\n",
    "\n",
    "### Using CountVectorizer\n",
    "\n",
    "One thing that may help you in the following problems is the [CountVectorizer](http://scikit-learn.org/stable/modules/generated/sklearn.feature_extraction.text.CountVectorizer.html) object in Scikit-learn.  This will help you convert your raw text fields into \"bag of words\" vectors, i.e. a data structure that tells you how many times a particular word appears in a blurb.  Here's a simple example, make sure you understand what's going on!"
   ]
  },
  {
   "cell_type": "code",
   "execution_count": 13,
   "metadata": {},
   "outputs": [
    {
     "name": "stdout",
     "output_type": "stream",
     "text": [
      "Original text is\n",
      " machine learning rocks\n",
      "machine learning rules\n",
      "rocks rocks rules\n",
      "\n",
      "Transformed text vector is \n",
      " [[1 1 1 0]\n",
      " [1 1 0 1]\n",
      " [0 0 2 1]]\n",
      "\n",
      "Words for each feature:\n",
      "['learning', 'machine', 'rocks', 'rules']\n"
     ]
    }
   ],
   "source": [
    "from sklearn.feature_extraction.text import CountVectorizer\n",
    "\n",
    "text = ['machine learning rocks', 'machine learning rules', 'rocks rocks rules']\n",
    "print(\"Original text is\\n\", '\\n'.join(text))\n",
    "\n",
    "vectorizer = CountVectorizer(min_df=0)\n",
    "\n",
    "# call `fit` to build the vocabulary\n",
    "vectorizer.fit(text)\n",
    "\n",
    "# call `transform` to convert text to a bag of words\n",
    "x = vectorizer.transform(text)\n",
    "\n",
    "# CountVectorizer uses a sparse array to save memory, but it's easier in this assignment to \n",
    "# convert back to a \"normal\" numpy array\n",
    "x = x.toarray()\n",
    "\n",
    "print(\"\\nTransformed text vector is \\n\", x)\n",
    "\n",
    "# `get_feature_names` tracks which word is associated with each column of the transformed x\n",
    "print(\"\\nWords for each feature:\")\n",
    "print(vectorizer.get_feature_names())"
   ]
  },
  {
   "cell_type": "markdown",
   "metadata": {},
   "source": [
    "### 2.1 Create your X input and Y output\n",
    "\n",
    "Using the `reviews` dataframe, compute a pair of numerical X, Y arrays where:\n",
    "    \n",
    " * X is a `(nreview, nwords)` array. Each row corresponds to a bag-of-words representation for a single review. This will be the *input* to your model.\n",
    " * Y is a `nreview`-element 1/0 array, encoding whether a review is Fresh (1) or Rotten (0). This is the desired *output* from your model.\n",
    " \n",
    "Make sure to remove items with no review text"
   ]
  },
  {
   "cell_type": "code",
   "execution_count": 14,
   "metadata": {},
   "outputs": [],
   "source": [
    "\"\"\"\n",
    "Function\n",
    "--------\n",
    "make_xy\n",
    "\n",
    "Build a bag-of-words training set for the review data\n",
    "\n",
    "Parameters\n",
    "-----------\n",
    "reviews : Pandas DataFrame\n",
    "    The review data from above\n",
    "    \n",
    "vectorizer : CountVectorizer object (optional)\n",
    "    A CountVectorizer object to use. If None,\n",
    "    then create and fit a new CountVectorizer.\n",
    "    Otherwise, re-fit the provided CountVectorizer\n",
    "    using the reviews data\n",
    "    \n",
    "Returns\n",
    "-------\n",
    "X : numpy array (dims: nreview, nwords)\n",
    "    Bag-of-words representation for each review.\n",
    "Y : numpy array (dims: nreview)\n",
    "    1/0 array. 1 = fresh review, 0 = rotten review\n",
    "\n",
    "Examples\n",
    "--------\n",
    "X, Y = make_xy(reviews)\n",
    "\"\"\"\n",
    "def make_xy(reviews, vectorizer = None):\n",
    "    \n",
    "    vectorizer.fit(reviews['quote'])\n",
    "    \n",
    "    X = vectorizer.transform(reviews['quote']).toarray()\n",
    "    \n",
    "    label_encoder = preprocessing.LabelEncoder()\n",
    "    label_encoder.fit(reviews['fresh'].unique())\n",
    "    label_encoder.classes_ = ['rotten', 'fresh']\n",
    "    \n",
    "    encoded_target = pd.Series(label_encoder.transform(reviews['fresh']))\n",
    "    \n",
    "    Y = encoded_target.values\n",
    "    \n",
    "    return X, Y"
   ]
  },
  {
   "cell_type": "code",
   "execution_count": 15,
   "metadata": {},
   "outputs": [],
   "source": [
    "# remove items with no review text\n",
    "reviews = reviews[reviews['quote'] != '']\n",
    "\n",
    "X, y = make_xy(reviews, CountVectorizer())"
   ]
  },
  {
   "cell_type": "markdown",
   "metadata": {},
   "source": [
    "### 2.2 Test-Train split\n",
    "\n",
    "Next, randomly split the data into two groups: a training set and a validation set.  You can do this manually, as you did in the prior problem set.  Or, use [`train_test_split`](http://scikit-learn.org/stable/modules/generated/sklearn.cross_validation.train_test_split.html) to do this auto-magically.  See [this guide](http://scikit-learn.org/stable/modules/cross_validation.html) for a simple example of how `train_test_split` works."
   ]
  },
  {
   "cell_type": "code",
   "execution_count": null,
   "metadata": {},
   "outputs": [],
   "source": [
    "X_train, X_test, y_train, y_test = train_test_split(X, y, test_size = 0.33, random_state = 42)"
   ]
  },
  {
   "cell_type": "markdown",
   "metadata": {},
   "source": [
    "### 2.3 Naive Bayes with `MultinomialNB`\n",
    "Use the training set to train a Naive Bayes classifier using the [`MultinomialNB`](http://scikit-learn.org/stable/modules/generated/sklearn.naive_bayes.MultinomialNB.html)\n",
    " object.  Report the accuracy of this model on both the training and testing data.  What do you observe?  Interpret these results!\n",
    "\n",
    "*Hint: This shouldn't take more than 5-10 lines of code to accomplish*\n",
    "\n"
   ]
  },
  {
   "cell_type": "code",
   "execution_count": null,
   "metadata": {},
   "outputs": [
    {
     "name": "stdout",
     "output_type": "stream",
     "text": [
      "Accuracy of Multinomial Naive Bayes model on training data is 0.9238042269187987\n",
      "Accuracy of Multinomial Naive Bayes model on test data is 0.7791826597426056\n"
     ]
    }
   ],
   "source": [
    "# call the fitted model fitted_model, for future reference:\n",
    "fitted_model = MultinomialNB()\n",
    "fitted_model.fit(X_train, y_train)\n",
    "\n",
    "print('Accuracy of Multinomial Naive Bayes model on training data is {0}'.format(fitted_model.score(X_train, y_train)))\n",
    "print('Accuracy of Multinomial Naive Bayes model on test data is {0}'.format(fitted_model.score(X_test, y_test)))"
   ]
  },
  {
   "cell_type": "markdown",
   "metadata": {},
   "source": [
    "<b>Interpretation</b>:<br>\n",
    "The accuracy on training data is 92.38% and on testing data is 77.91%. There is a large difference between the accuracies which suggests that the model is overfitting on the training data."
   ]
  },
  {
   "cell_type": "markdown",
   "metadata": {},
   "source": [
    "### 2.4 (EXTRA CREDIT) Naive Bayes from Scratch!\n",
    "That was almost too easy, right?  Right.\n",
    "\n",
    "Your next mission, should you choose to accept it, is to write your own Naive Bayes classifier without relying on `MultinomialNB` or a similar pre-written package.  In addition to the lecture notes and assigned readings, I highly recommend that you review Michael Collin’s lecture notes on Naïve Bayes before starting (available on Canvas).  \n",
    "\n",
    "**Note:**\n",
    "You should do this extra credit assignment *after* you have finished the rest of the problem set.  It is very rewarding, but can also be quite time-consuming!\n",
    "\n",
    "*Hint: You will benefit most from this exercise if you attempt to write the algorithm directly from the lecture notes.  That said, if you really get stuck, Krishnamurthy Viswanathan has written a simple version of [NB in python](http://ebiquity.umbc.edu/blogger/2010/12/07/naive-bayes-classifier-in-50-lines/), which you can peek at if you really get stuck.*"
   ]
  },
  {
   "cell_type": "code",
   "execution_count": null,
   "metadata": {},
   "outputs": [],
   "source": [
    "# Your code here"
   ]
  },
  {
   "cell_type": "markdown",
   "metadata": {},
   "source": [
    "---\n",
    "\n",
    "## Part 3: Evaluation\n",
    "\n",
    "### 3.1 Estimate the likelihood of your data\n",
    "\n",
    "Given a fitted model, you can compute the log-likelihood of your data as a way to assess the performance of your model.  Using `fitted_model.predict_logproba`, the idea is to write a function that computes the log-likelihood of a dataset, so that we can inspect the log-likelihood of your training and testing data given your fitted model from part 2.\n",
    "\n",
    "To help you out a little bit, we'll do this part for you. But make sure you understand it, because you'll need to use this later!"
   ]
  },
  {
   "cell_type": "code",
   "execution_count": null,
   "metadata": {},
   "outputs": [
    {
     "data": {
      "text/plain": [
       "-2513.463667708351"
      ]
     },
     "execution_count": 19,
     "metadata": {},
     "output_type": "execute_result"
    }
   ],
   "source": [
    "\"\"\"\n",
    "Function\n",
    "--------\n",
    "log_likelihood\n",
    "\n",
    "Compute the log likelihood of a dataset according to a bayesian classifier. \n",
    "The Log Likelihood is defined by\n",
    "\n",
    "L = Sum_fresh(logP(fresh)) + Sum_rotten(logP(rotten))\n",
    "\n",
    "Where Sum_fresh indicates a sum over all fresh reviews, \n",
    "and Sum_rotten indicates a sum over rotten reviews\n",
    "    \n",
    "Parameters\n",
    "----------\n",
    "model : Bayesian classifier\n",
    "x : (nexample, nfeature) array\n",
    "    The input data\n",
    "y : (nexample) integer array\n",
    "    Whether each review is Fresh\n",
    "\"\"\"\n",
    "\n",
    "def log_likelihood(model, x, y):\n",
    "    prob = model.predict_log_proba(x)\n",
    "    rotten = y == 0\n",
    "    fresh = ~rotten\n",
    "    return prob[rotten, 0].sum() + prob[fresh, 1].sum()\n",
    "\n",
    "# output the likelihood of your test data (example - you may need to \n",
    "# chance the nambes of the variables below to match your code in 2.2 and 2.3\n",
    "log_likelihood(fitted_model, X_test, y_test)"
   ]
  },
  {
   "cell_type": "markdown",
   "metadata": {},
   "source": [
    "### 3.2 Cross-Validation\n",
    "\n",
    "Why do we care about the log-likelihood of our data?  You guessed it: Cross-Validation.\n",
    "\n",
    "Our classifier has a few hyperparameters. The two most important are:\n",
    "\n",
    " 1. The `min_df` keyword in `CountVectorizer`, which will ignore words which appear in fewer than `min_df` fraction of reviews. Words that appear only once or twice can lead to overfitting, since words which occur only a few times might correlate very well with Fresh/Rotten reviews by chance in the training dataset.\n",
    " \n",
    " 2. The [`alpha` keyword](http://scikit-learn.org/stable/modules/naive_bayes.html#multinomial-naive-bayes) in the Bayesian classifier is a \"smoothing parameter\" -- increasing the value decreases the sensitivity to any single feature, and tends to pull prediction probabilities closer to 50%. \n",
    "\n",
    "How are we are going to use cross-validation to tune these hyperparameters?  The objective function we want to maximize is the log-likelihood of our data.  Fill in the remaining code in this block, to loop over many values of `alpha` and `min_df` to determine\n",
    "which settings are \"best\" in the sense of maximizing the cross-validated log-likelihood.\n",
    "\n",
    "*hint: sklearn has a built-in function, `sklearn.cross_validation.cross_val_score`, that might save you a lot of time here...*"
   ]
  },
  {
   "cell_type": "code",
   "execution_count": null,
   "metadata": {},
   "outputs": [
    {
     "name": "stderr",
     "output_type": "stream",
     "text": [
      "C:\\Users\\prani\\Anaconda3\\lib\\site-packages\\sklearn\\naive_bayes.py:480: UserWarning: alpha too small will result in numeric errors, setting alpha = 1.0e-10\n",
      "  'setting alpha = %.1e' % _ALPHA_MIN)\n",
      "C:\\Users\\prani\\Anaconda3\\lib\\site-packages\\sklearn\\naive_bayes.py:480: UserWarning: alpha too small will result in numeric errors, setting alpha = 1.0e-10\n",
      "  'setting alpha = %.1e' % _ALPHA_MIN)\n",
      "C:\\Users\\prani\\Anaconda3\\lib\\site-packages\\sklearn\\naive_bayes.py:480: UserWarning: alpha too small will result in numeric errors, setting alpha = 1.0e-10\n",
      "  'setting alpha = %.1e' % _ALPHA_MIN)\n",
      "C:\\Users\\prani\\Anaconda3\\lib\\site-packages\\sklearn\\naive_bayes.py:480: UserWarning: alpha too small will result in numeric errors, setting alpha = 1.0e-10\n",
      "  'setting alpha = %.1e' % _ALPHA_MIN)\n",
      "C:\\Users\\prani\\Anaconda3\\lib\\site-packages\\sklearn\\naive_bayes.py:480: UserWarning: alpha too small will result in numeric errors, setting alpha = 1.0e-10\n",
      "  'setting alpha = %.1e' % _ALPHA_MIN)\n",
      "C:\\Users\\prani\\Anaconda3\\lib\\site-packages\\sklearn\\naive_bayes.py:480: UserWarning: alpha too small will result in numeric errors, setting alpha = 1.0e-10\n",
      "  'setting alpha = %.1e' % _ALPHA_MIN)\n",
      "C:\\Users\\prani\\Anaconda3\\lib\\site-packages\\sklearn\\naive_bayes.py:480: UserWarning: alpha too small will result in numeric errors, setting alpha = 1.0e-10\n",
      "  'setting alpha = %.1e' % _ALPHA_MIN)\n",
      "C:\\Users\\prani\\Anaconda3\\lib\\site-packages\\sklearn\\naive_bayes.py:480: UserWarning: alpha too small will result in numeric errors, setting alpha = 1.0e-10\n",
      "  'setting alpha = %.1e' % _ALPHA_MIN)\n",
      "C:\\Users\\prani\\Anaconda3\\lib\\site-packages\\sklearn\\naive_bayes.py:480: UserWarning: alpha too small will result in numeric errors, setting alpha = 1.0e-10\n",
      "  'setting alpha = %.1e' % _ALPHA_MIN)\n",
      "C:\\Users\\prani\\Anaconda3\\lib\\site-packages\\sklearn\\naive_bayes.py:480: UserWarning: alpha too small will result in numeric errors, setting alpha = 1.0e-10\n",
      "  'setting alpha = %.1e' % _ALPHA_MIN)\n",
      "C:\\Users\\prani\\Anaconda3\\lib\\site-packages\\sklearn\\naive_bayes.py:480: UserWarning: alpha too small will result in numeric errors, setting alpha = 1.0e-10\n",
      "  'setting alpha = %.1e' % _ALPHA_MIN)\n",
      "C:\\Users\\prani\\Anaconda3\\lib\\site-packages\\sklearn\\naive_bayes.py:480: UserWarning: alpha too small will result in numeric errors, setting alpha = 1.0e-10\n",
      "  'setting alpha = %.1e' % _ALPHA_MIN)\n",
      "C:\\Users\\prani\\Anaconda3\\lib\\site-packages\\sklearn\\naive_bayes.py:480: UserWarning: alpha too small will result in numeric errors, setting alpha = 1.0e-10\n",
      "  'setting alpha = %.1e' % _ALPHA_MIN)\n",
      "C:\\Users\\prani\\Anaconda3\\lib\\site-packages\\sklearn\\naive_bayes.py:480: UserWarning: alpha too small will result in numeric errors, setting alpha = 1.0e-10\n",
      "  'setting alpha = %.1e' % _ALPHA_MIN)\n",
      "C:\\Users\\prani\\Anaconda3\\lib\\site-packages\\sklearn\\naive_bayes.py:480: UserWarning: alpha too small will result in numeric errors, setting alpha = 1.0e-10\n",
      "  'setting alpha = %.1e' % _ALPHA_MIN)\n"
     ]
    }
   ],
   "source": [
    "#the grid of parameters to search over\n",
    "alphas = [0, .1, 1, 5, 10, 50]\n",
    "min_dfs = [1e-5, 1e-4, 1e-3, 1e-2, 1e-1]\n",
    "\n",
    "#Find the best value for alpha and min_df, and the best classifier\n",
    "best_alpha = None\n",
    "best_min_df = None\n",
    "max_loglike = -np.inf\n",
    "\n",
    "for alpha in alphas:\n",
    "    for min_df in min_dfs:         \n",
    "        vectorizer = CountVectorizer(min_df = min_df)       \n",
    "        X, y = make_xy(reviews, vectorizer)\n",
    "        \n",
    "        X_train, X_test, y_train, y_test = train_test_split(X, y, test_size = 0.33, random_state = 42)\n",
    "        \n",
    "        fitted_model_new = MultinomialNB(alpha = alpha)\n",
    "        scores = cross_val_score(fitted_model_new, X_train, y_train, scoring = log_likelihood, cv = KFold(n_splits = 5))\n",
    "        \n",
    "        mean_score = scores.mean()\n",
    "        \n",
    "        if mean_score > max_loglike:\n",
    "            max_loglike = mean_score\n",
    "            best_alpha = alpha\n",
    "            best_min_df = min_df\n",
    "\n",
    "print('The best score is {0}'.format(max_loglike))\n",
    "print('Alpha: {0}'.format(best_alpha))\n",
    "print('Minimum df: {0}'.format(best_min_df))"
   ]
  },
  {
   "cell_type": "markdown",
   "metadata": {},
   "source": [
    "### 3.3 Putting it together\n",
    "\n",
    "Now that you've determined values for alpha and min_df that optimize the cross-validated log-likelihood, repeat the steps in 2.1-2.3 to train a final classifier with these parameters and re-evaluate the accuracy.  Discuss the various ways in which Cross-Validation has affected the model. Is the new model more or less accurate? Is overfitting better or worse?"
   ]
  },
  {
   "cell_type": "code",
   "execution_count": null,
   "metadata": {},
   "outputs": [],
   "source": [
    "vectorizer = CountVectorizer(lowercase = True, stop_words = 'english', min_df = best_min_df)\n",
    "X_best, y = make_xy(reviews, vectorizer)\n",
    "\n",
    "X_train, X_test, y_train, y_test = train_test_split(X_best, y, test_size = 0.33, random_state = 42)\n",
    "\n",
    "fitted_model_MNB = MultinomialNB(alpha = best_alpha)\n",
    "fitted_model_MNB.fit(X_train, y_train)\n",
    "\n",
    "print('Accuracy of Multinomial Naive Bayes model on training data is {0}'.format(fitted_model_MNB.score(X_train, y_train)))\n",
    "print('Accuracy of Multinomial Naive Bayes model on test data is {0}'.format(fitted_model_MNB.score(X_test, y_test)))"
   ]
  },
  {
   "cell_type": "markdown",
   "metadata": {},
   "source": [
    "<b>Interpretation:</b><br>\n",
    "On using the best alpha value, the accuracy of the model on training data reduces to 78.04% and accuracy of the model on testing data is 73.35%. This suggests that the Multinomial Naive Bayes model doesn't overfit as it did without the hyperparameter tuning."
   ]
  },
  {
   "cell_type": "markdown",
   "metadata": {},
   "source": [
    "### 3.4 (Extra Credit)\n",
    "\n",
    "What happens if you tried this again using a function besides the log-likelihood -- for example, the classification accuracy?  Interpret these results"
   ]
  },
  {
   "cell_type": "code",
   "execution_count": null,
   "metadata": {
    "scrolled": true
   },
   "outputs": [],
   "source": [
    "#the grid of parameters to search over\n",
    "alphas = [0, .1, 1, 5, 10, 50]\n",
    "min_dfs = [1e-5, 1e-4, 1e-3, 1e-2, 1e-1]\n",
    "\n",
    "#Find the best value for alpha and min_df, and the best classifier\n",
    "best_alpha = None\n",
    "best_min_df = None\n",
    "max_loglike = -np.inf\n",
    "\n",
    "for alpha in alphas:\n",
    "    for min_df in min_dfs:         \n",
    "        vectorizer = CountVectorizer(min_df = min_df)       \n",
    "        X, y = make_xy(reviews, vectorizer)\n",
    "        \n",
    "        X_train, X_test, y_train, y_test = train_test_split(X, y, test_size = 0.33, random_state = 42)\n",
    "        \n",
    "        fitted_model_new = MultinomialNB(alpha = alpha)\n",
    "        scores = cross_val_score(fitted_model_new, X_train, y_train, scoring = make_scorer(roc_auc_score), cv = KFold(n_splits = 5))\n",
    "        \n",
    "        mean_score = scores.mean()\n",
    "        \n",
    "        if mean_score > max_loglike:\n",
    "            max_loglike = mean_score\n",
    "            best_alpha = alpha\n",
    "            best_min_df = min_df\n",
    "\n",
    "print('The best score is {0}'.format(max_loglike))\n",
    "print('Alpha: {0}'.format(best_alpha))\n",
    "print('Minimum df: {0}'.format(best_min_df))"
   ]
  },
  {
   "cell_type": "code",
   "execution_count": null,
   "metadata": {},
   "outputs": [],
   "source": [
    "vectorizer_roc = CountVectorizer(lowercase = True, stop_words = 'english', min_df = best_min_df)\n",
    "\n",
    "X, y = make_xy(reviews, vectorizer_roc)\n",
    "\n",
    "X_train, X_test, y_train, y_test = train_test_split(X, y, test_size = 0.33, random_state = 42)\n",
    "\n",
    "fitted_model_roc = MultinomialNB(alpha = best_alpha)\n",
    "fitted_model_roc.fit(X_train, y_train)\n",
    "\n",
    "print('Accuracy of Multinomial Naive Bayes model on training data is {0}'.format(fitted_model_roc.score(X_train, y_train)))\n",
    "print('Accuracy of Multinomial Naive Bayes model on test data is {0}'.format(fitted_model_roc.score(X_test, y_test)))"
   ]
  },
  {
   "cell_type": "markdown",
   "metadata": {},
   "source": [
    "<b>Interpretation:</b><br>\n",
    "The accuracy on the training data increases to 90.78% and testing data to 76.99% with min_df value as 0.0001 and alpha as 1. This model overfits on the training data."
   ]
  },
  {
   "cell_type": "markdown",
   "metadata": {},
   "source": [
    "### 3.5 Interpretation\n",
    "\n",
    "What words best predict a fresh or rotten review?  Using your classifier and the `vectorizer.get_feature_names` method, determine which words best predict a positive or negative review. Print the 10 words that best predict a \"fresh\" review, and the 10 words that best predict a \"rotten\" review. For each word, what is the model's probability of freshness if the word appears one time?\n",
    "\n",
    "#### Hints\n",
    "* In thinking about how to measure the impact of a word on freshness rating, consider computing the classification probability for a feature vector which consists of all 0s, except for a single 1. What does this probability refer to?\n",
    "* `numpy.identity` generates an identity matrix, where all values are zero except the diagonal elements which have a value of one"
   ]
  },
  {
   "cell_type": "code",
   "execution_count": null,
   "metadata": {},
   "outputs": [],
   "source": [
    "# Left question part\n",
    "from IPython.display import Markdown, display\n",
    "def printmd(string):\n",
    "    display(Markdown(\"**\" + string + \"**\"))"
   ]
  },
  {
   "cell_type": "code",
   "execution_count": null,
   "metadata": {},
   "outputs": [],
   "source": [
    "features = pd.DataFrame(np.array(vectorizer.get_feature_names()))\n",
    "features.rename(columns={0:'words'}, inplace =True)\n",
    "features.tail()"
   ]
  },
  {
   "cell_type": "code",
   "execution_count": null,
   "metadata": {},
   "outputs": [],
   "source": [
    "iden_matrix = np.identity(np.shape(features)[0])\n",
    "probabilities = fitted_model_MNB.predict_log_proba(iden_matrix)\n",
    "\n",
    "features['probability_rotten'] = probabilities[ : , 0]\n",
    "features['probability_fresh'] = probabilities[ : , 1]\n",
    "\n",
    "words_best_predict_rotten_df = features.sort_values('probability_rotten', ascending=False)[['words', 'probability_rotten']].head(10)\n",
    "words_best_predict_rotten = ', '.join(words_best_predict_rotten_df['words'].tolist())\n",
    "\n",
    "words_best_predict_fresh_df = features.sort_values('probability_fresh', ascending=False)[['words', 'probability_fresh']].head(10)\n",
    "words_best_predict_fresh = ', '.join(words_best_predict_fresh_df['words'].tolist())\n",
    "\n",
    "print('10 words that best predict a rotten review are {0}'.format(words_best_predict_rotten))\n",
    "print('10 words that best predict a fresh review are {0}'.format(words_best_predict_fresh))"
   ]
  },
  {
   "cell_type": "markdown",
   "metadata": {},
   "source": [
    "*enter your observations here*"
   ]
  },
  {
   "cell_type": "markdown",
   "metadata": {},
   "source": [
    "### 3.6 Error Analysis\n",
    "\n",
    "One of the best sources for inspiration when trying to improve a model is to look at examples where the model performs poorly.  Find 5 fresh and rotten reviews where your model performs particularly poorly. Print each review.\n",
    "\n",
    "What do you notice about these mis-predictions? Naive Bayes classifiers assume that every word affects the probability independently of other words. In what way is this a bad assumption? In your answer, report your classifier's Freshness probability for the review \"This movie is not remarkable, touching, or superb in any way\"."
   ]
  },
  {
   "cell_type": "code",
   "execution_count": null,
   "metadata": {},
   "outputs": [],
   "source": [
    "X, y = make_xy(reviews, CountVectorizer(min_df = 0.001))\n",
    "\n",
    "X_train, X_test, y_train, y_test = train_test_split(X, y, test_size = 0.33, random_state = 42)\n",
    "\n",
    "fitted_model_MNB.fit(X_train, y_train)\n",
    "probabilities = fitted_model_MNB.predict_proba(X_train)[:, 0]\n",
    "predictions = fitted_model_MNB.predict(X_train)\n",
    "\n",
    "mispredictions_rotten = np.argsort(probabilities[y_train == 0])[:5]\n",
    "mispredictions_fresh = np.argsort(probabilities[y_train == 1])[-5:]\n",
    "\n",
    "printmd(\"Mis-predictions for rotten\")\n",
    "\n",
    "for row in mispredictions_rotten:\n",
    "    print(reviews[y == 0].quote.iloc[row] + '\\n')  \n",
    "\n",
    "printmd(\"Mis-predictions for fresh\")\n",
    "for row in mispredictions_fresh:\n",
    "    print(reviews[y == 1].quote.iloc[row] + '\\n')\n",
    "\n",
    "# vectorizer = CountVectorizer()\n",
    "# # vectorizer.fit(reviews['quote'])\n",
    "# a = vectorizer.fit_transform(['This movie is not remarkable, touching, or superb in any way'])\n",
    "# # print(vectorizer.transform(['This movie is not remarkable, touching, or superb in any way']))\n",
    "# print(fitted_model_MNB.predict_proba(a))\n",
    "# print('Freshness probability for the review \"This movie is not remarkable, touching, or superb in any way\"', reviews[(reviews['quote'] == 'This movie is not remarkable, touching, or superb in any way')])"
   ]
  },
  {
   "cell_type": "markdown",
   "metadata": {},
   "source": [
    "## Part 4: Principal Component Analysis\n",
    "\n",
    "Just when you thought you were *finally* done with the [Boston Housing Prices Data Set](http://archive.ics.uci.edu/ml/datasets/Housing), it has come back to haunt you for a few more minutes.  Make sure you're up and running as you were on the previous problem set:"
   ]
  },
  {
   "cell_type": "code",
   "execution_count": 1,
   "metadata": {},
   "outputs": [],
   "source": [
    "from sklearn import metrics\n",
    "from sklearn.decomposition import PCA\n",
    "from sklearn.feature_selection import RFE\n",
    "from sklearn.linear_model import LinearRegression\n",
    "from sklearn.datasets import load_boston\n",
    "bdata = load_boston()"
   ]
  },
  {
   "cell_type": "markdown",
   "metadata": {},
   "source": [
    "### 4.1 Remember the last problem set?\n",
    "\n",
    "Use matplotlib to create a scatter plot that shows the relationship between the median value of the home (y-axis) and the per-capita crime rate (x-axis).  Properly label your axes, and make sure that your graphic looks polished and professional.  If you didn't get full credit for this on the first problem set, get full credit this time!\n",
    "\n",
    "Then, just as you did on the previous problem set, use the [Linear Regression class](http://scikit-learn.org/stable/modules/generated/sklearn.linear_model.LinearRegression.html) from sklearn or the [OLS class](http://wiki.scipy.org/Cookbook/OLS) from SciPy to regress median housing price on average number of rooms per house.  Use a training set consisting of 66% of your instances to fit your regression model.  Report the RMSE on the training and test set."
   ]
  },
  {
   "cell_type": "code",
   "execution_count": 4,
   "metadata": {},
   "outputs": [
    {
     "data": {
      "image/png": "[encoded data removed]",
      "text/plain": [
       "<Figure size 800x500 with 1 Axes>"
      ]
     },
     "metadata": {
      "needs_background": "light"
     },
     "output_type": "display_data"
    }
   ],
   "source": [
    "# Set figure size and dpi\n",
    "plt.figure(num = None, figsize = (8, 5), dpi = 100)\n",
    "\n",
    "# Plot scatter plot\n",
    "plt.scatter(bdata.data[:, 0], bdata.target, s = 3)\n",
    "\n",
    "# Add title and labels to the x and y axes\n",
    "plt.title(\"Relationship between per-capita crime rate and median value of the home\")\n",
    "plt.xlabel('Per-Capita Crime Rate')\n",
    "plt.ylabel('Median Value of Home')\n",
    "\n",
    "# Remove the axes on the top and right side of the plot window\n",
    "ax = plt.gca()\n",
    "ax.spines['top'].set_visible(False)\n",
    "ax.spines['right'].set_visible(False)\n",
    "\n",
    "plt.show()"
   ]
  },
  {
   "cell_type": "code",
   "execution_count": 5,
   "metadata": {},
   "outputs": [
    {
     "name": "stdout",
     "output_type": "stream",
     "text": [
      "RMSE of Linear Regression model on train set is 6.897112295261778\n",
      "RMSE of Linear Regression model on testing set is 5.998603544324998\n"
     ]
    },
    {
     "name": "stderr",
     "output_type": "stream",
     "text": [
      "C:\\Users\\Manas\\Anaconda3\\lib\\site-packages\\sklearn\\model_selection\\_split.py:2179: FutureWarning: From version 0.21, test_size will always complement train_size unless both are specified.\n",
      "  FutureWarning)\n"
     ]
    }
   ],
   "source": [
    "X = bdata.data[:, np.newaxis, 5]\n",
    "\n",
    "X_train, X_test, y_train, y_test = train_test_split(X, bdata.target, train_size = 0.66, random_state = 234)\n",
    "\n",
    "classifier = LinearRegression()\n",
    "classifier.fit(X_train, y_train)\n",
    "\n",
    "y_pred_train = classifier.predict(X_train)\n",
    "y_pred_test = classifier.predict(X_test)\n",
    "\n",
    "print('RMSE of Linear Regression model on train set is {0}'.format(np.sqrt(metrics.mean_squared_error(y_train, y_pred_train))))\n",
    "print('RMSE of Linear Regression model on testing set is {0}'.format(np.sqrt(metrics.mean_squared_error(y_test, y_pred_test))))"
   ]
  },
  {
   "cell_type": "markdown",
   "metadata": {},
   "source": [
    "### 4.2 So many scatterplots!\n",
    "\n",
    "Choose 8 out of the 14 features of the housing data that you think are most interesting to study.  Create an 8x8 grid of scatterplots showing how each of these variables relate to each other.  You want to produce something that looks generally like [this image](http://iogas.net/wp-content/gallery/iogas-evaluation/scatterplot-matrix-point-density.png)."
   ]
  },
  {
   "cell_type": "code",
   "execution_count": null,
   "metadata": {},
   "outputs": [],
   "source": [
    "# Scatterplot matrix for the first 8 features from the boston dataset\n",
    "plt.figure(figsize = (12,12))\n",
    "for i in range(8):\n",
    "    for j in range(8):\n",
    "        plt.subplot(8, 8, i * 8 + j + 1)\n",
    "        plt.scatter(bdata.data[:, i], bdata.data[:, j])"
   ]
  },
  {
   "cell_type": "markdown",
   "metadata": {},
   "source": [
    "### 4.3 PCA to the rescue\n",
    "\n",
    "Run principal component analysis using [PCA](http://scikit-learn.org/stable/modules/generated/sklearn.decomposition.PCA.html) from sklearn to find the first 12 principal components of your data.  Use only your training set (66% of the data), and use all features *except* the median housing price.  Create a figure showing how the amount of variance explained by your components increases as you increase the number of components from 1 to 12."
   ]
  },
  {
   "cell_type": "code",
   "execution_count": null,
   "metadata": {},
   "outputs": [],
   "source": [
    "# Convert bunch data type to pandas dataframe\n",
    "df_bdata = pd.DataFrame(bdata.data)\n",
    "\n",
    "# Set column names\n",
    "df_bdata.columns = ['CRIM', 'ZN', 'INDUS', 'CHAS', 'NOX', 'RM', 'AGE', 'DIS', 'RAD', 'TAX', 'PTRATIO', 'B', 'LSTAT']\n",
    "\n",
    "# Create target dataframe \n",
    "df_bdata_target = pd.DataFrame(bdata.target)\n",
    "\n",
    "# Create target column name\n",
    "df_bdata_target.columns = ['MEDV']\n",
    "\n",
    "X = StandardScaler().fit_transform(df_bdata)\n",
    "\n",
    "X_train, X_test, y_train, y_test = train_test_split(X, df_bdata_target, train_size = 0.66, random_state = 456)\n",
    "\n",
    "pca = PCA(n_components = 12)\n",
    "\n",
    "X_train_pca = pca.fit_transform(X_train)\n",
    "\n",
    "explained_var = pca.explained_variance_ratio_\n",
    "\n",
    "print('\\nExplained variance ratios of each of the 12 principal components are \\n{0}'.format(explained_var))\n",
    "\n",
    "plt.plot(explained_var)\n",
    "plt.xlabel('Principal Components')\n",
    "plt.ylabel('Proportion of Variance Explained')\n",
    "plt.title('Amount of variance explained by principal components')\n",
    "plt.show()\n",
    "\n",
    "print('\\nExplained variance in data as the number of components increase from 1 to 12 \\n{0}'.format(explained_var.cumsum()))\n",
    "\n",
    "plt.plot(explained_var.cumsum())\n",
    "plt.xlabel('Principal Components')\n",
    "plt.ylabel('Cummulative Proportion of Variance Explained')\n",
    "plt.title('Amount of variance explained by principal components')\n",
    "plt.show()"
   ]
  },
  {
   "cell_type": "markdown",
   "metadata": {},
   "source": [
    "### 4.4 Visualizing the components\n",
    "\n",
    "Create a 1X3 grid containing three scatter plots of your training data:\n",
    "\n",
    "1. PCA 1 vs. PCA 2 (you will need to use `fit_transform` to project your training data onto these two components)\n",
    "2. PCA 1 (x-axis) vs. median housing value\n",
    "3. PCA 2 vs. median housing value"
   ]
  },
  {
   "cell_type": "code",
   "execution_count": null,
   "metadata": {},
   "outputs": [],
   "source": [
    "princ_comp = pca.fit_transform(X_train)\n",
    "\n",
    "plt.figure(figsize = (25, 8), dpi = 300)\n",
    "\n",
    "plt.subplot(1, 3, 1)\n",
    "plt.scatter(princ_comp[:, 0], princ_comp[:, 1])\n",
    "plt.xlabel('PCA 1')\n",
    "plt.ylabel('PCA 2')\n",
    "\n",
    "plt.subplot(1, 3, 2)\n",
    "plt.scatter(princ_comp[:, 0], y_train)\n",
    "plt.xlabel('PCA 1')\n",
    "plt.ylabel('Median Housing Value')\n",
    "\n",
    "plt.subplot(1, 3, 3)\n",
    "plt.scatter(princ_comp[:, 1], y_train)\n",
    "plt.xlabel('PCA 2')\n",
    "plt.ylabel('Median Housing Value')\n",
    "\n",
    "plt.show()"
   ]
  },
  {
   "cell_type": "markdown",
   "metadata": {},
   "source": [
    "### 4.5 Regression and PCA\n",
    "\n",
    "Using just the first Principal Component learned on the training data, project all of your data (including the test data) onto this 1-dimensional subspace using the `fit_transform` function.  Now, using your training data, fit a regression of median housing price on this first principal component of your data.  Report the RMSE of this regression for both the training and test set.  How do these results compare to your results from 4.1?  Interpret your results!"
   ]
  },
  {
   "cell_type": "code",
   "execution_count": null,
   "metadata": {},
   "outputs": [],
   "source": [
    "X_train_pca = pca.fit_transform(X_train)\n",
    "X_test_pca = pca.transform(X_test)\n",
    "\n",
    "classifier = LinearRegression()\n",
    "classifier.fit(X_train_pca[:, 0:1], y_train)\n",
    "\n",
    "y_pred_train = classifier.predict(X_train_pca[:, 0:1])\n",
    "y_pred_test = classifier.predict(X_test_pca[:, 0:1])\n",
    "\n",
    "print('RMSE of Linear Regression model on principal component train set is {0}'.format(np.sqrt(metrics.mean_squared_error(y_train, y_pred_train))))\n",
    "print('RMSE of Linear Regression model on principal component testing set is {0}'.format(np.sqrt(metrics.mean_squared_error(y_test, y_pred_test))))"
   ]
  },
  {
   "cell_type": "markdown",
   "metadata": {},
   "source": [
    "Interpretation of 4.1:<br>\n",
    "The linear regression model runs on one feature. The RMSE on the training data is 6.897112295261778 and RMSE on testing data is 5.998603544324998. We can say that the model doesn't overfit.<br><br>\n",
    "Interpretation of 4.5:<br>\n",
    "The linear regression model runs on 13 features. The RMSE on principal component 1 of train set is 6.9998457389023 and RMSE testing set is 7.64715455963971.<br><br>\n",
    "The RMSE's on both, the training and testing data, increases while regressing on the first principal component of the feature set. Since both the models (4.1 and 4.5 respectively) run on different set of features (1 and 13 respectively), we cannot directly compare the two RMSE's. The first principal component of the entire feature explains 47% of variance i.e. we lose 53% of information from our training data. This also includes features that might not directly impact the response variable. Thus, regressing on PCA 1 will reduce the overall RMSE of the model while predicting Median Value of Home."
   ]
  }
 ],
 "metadata": {
  "kernel_info": {
   "name": "python3"
  },
  "kernelspec": {
   "display_name": "Python 3",
   "language": "python",
   "name": "python3"
  },
  "language_info": {
   "codemirror_mode": {
    "name": "ipython",
    "version": 3
   },
   "file_extension": ".py",
   "mimetype": "text/x-python",
   "name": "python",
   "nbconvert_exporter": "python",
   "pygments_lexer": "ipython3",
   "version": "3.7.1"
  },
  "nteract": {
   "version": "0.12.3"
  }
 },
 "nbformat": 4,
 "nbformat_minor": 1
}
