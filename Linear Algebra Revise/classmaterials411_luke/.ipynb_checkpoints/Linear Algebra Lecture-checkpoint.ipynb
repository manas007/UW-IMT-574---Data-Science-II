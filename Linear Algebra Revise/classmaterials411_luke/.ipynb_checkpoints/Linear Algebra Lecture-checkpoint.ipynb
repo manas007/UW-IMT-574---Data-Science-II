{
 "cells": [
  {
   "cell_type": "code",
   "execution_count": 1,
   "metadata": {},
   "outputs": [],
   "source": [
    "import numpy as np\n",
    "import scipy\n",
    "import scipy.misc\n",
    "from PIL import Image"
   ]
  },
  {
   "cell_type": "markdown",
   "metadata": {},
   "source": [
    "# Terminology"
   ]
  },
  {
   "cell_type": "markdown",
   "metadata": {},
   "source": [
    "### \"Matrix\"\n",
    "\n",
    "Matrices are collections of values with a given structure - rows and columns\n",
    "\n",
    "Usually denoted by CAPITAL LETTERS in $\\textbf{bold face}$\n",
    "\n",
    "$$\\mathbf{X} = \\begin{bmatrix}\n",
    "    1 & 2 & 3 \\\\\n",
    "    2 & 4 & 8\n",
    "  \\end{bmatrix}$$"
   ]
  },
  {
   "cell_type": "code",
   "execution_count": 2,
   "metadata": {},
   "outputs": [
    {
     "name": "stdout",
     "output_type": "stream",
     "text": [
      "[[1 2 3]\n",
      " [2 4 8]]\n"
     ]
    }
   ],
   "source": [
    "#To create a matrix, we use the np.array command\n",
    "X = np.array([[1,2,3],[2,4,8]])\n",
    "print(X)"
   ]
  },
  {
   "cell_type": "markdown",
   "metadata": {},
   "source": [
    "$$\\mathbf{Y} = \\begin{bmatrix}\n",
    "    2 & 3 \\\\\n",
    "    5 & 9 \\\\\n",
    "    1 & 1 \\\\\n",
    "    12 & 2\n",
    "  \\end{bmatrix}$$"
   ]
  },
  {
   "cell_type": "code",
   "execution_count": 3,
   "metadata": {},
   "outputs": [
    {
     "name": "stdout",
     "output_type": "stream",
     "text": [
      "[[ 2  3]\n",
      " [ 5  9]\n",
      " [ 1  1]\n",
      " [12  2]]\n"
     ]
    }
   ],
   "source": [
    "#We can create matrices of varying shapes by inserting more or fewer tuples\n",
    "Y = np.array([[2,3],[5,9],[1,1],[12,2]])\n",
    "print(Y)"
   ]
  },
  {
   "cell_type": "markdown",
   "metadata": {},
   "source": [
    "In general, a matrix can be written as:\n",
    "\n",
    "$$\\mathbf{M} = \\begin{bmatrix}\n",
    "    m_{1,1} & m_{1,2} & m_{1,3} & \\ldots & m_{1,k} \\\\\n",
    "    m_{2,1} & m_{2,2} & m_{2,3} & \\ldots & m_{2,k} \\\\\n",
    "    m_{3,1} & m_{3,2} & m_{3,3} & \\ldots & m_{3,k} \\\\\n",
    "    \\vdots & \\vdots & \\vdots & \\ddots & \\vdots \\\\\n",
    "    m_{n,1} & m_{n,2} & m_{n,3} & \\ldots & m_{n,k}\n",
    "  \\end{bmatrix}$$\n",
    "  \n",
    "We label a matrix \"$(n \\times k)$\" to indicate that it has $n$ rows and $k$ columns. These are called the $\\textit{dimensions}$ of $\\mathbf{M}$."
   ]
  },
  {
   "cell_type": "markdown",
   "metadata": {},
   "source": [
    "### \"Vector\"\n",
    "\n",
    "Special case of a matrix whether the number of rows or columns (one of the dimensions $n$ or $k$) is one.\n",
    "\n",
    "Usually denoted by lowercase letters in $\\textbf{bold face}$\n",
    "\n",
    "$$\\mathbf{a} = \\begin{bmatrix} 1 \\\\ 2 \\\\ 3 \\\\ 4 \\\\ 5 \\end{bmatrix}$$ \n",
    "\n",
    "$$\\mathbf{b} = \\begin{bmatrix} 1 & 2 & 3 & 4 & 5 \\end{bmatrix}$$\n"
   ]
  },
  {
   "cell_type": "code",
   "execution_count": 4,
   "metadata": {},
   "outputs": [
    {
     "name": "stdout",
     "output_type": "stream",
     "text": [
      "[1 2 3 4 5]\n",
      "[ 2  4  6  8 10]\n",
      "[[1]\n",
      " [2]\n",
      " [3]\n",
      " [4]\n",
      " [5]]\n",
      "[[ 2  4  6  8 10]]\n"
     ]
    }
   ],
   "source": [
    "#We create vectors in python the same way that we do matrices, but with only one dimension\n",
    "a = np.array([1,2,3,4,5])\n",
    "print(a)\n",
    "b = np.array([2,4,6,8,10])\n",
    "print(b)\n",
    "#We can also make them as matrices, but this will often behave differently (more on this later!)\n",
    "a = np.array([[1],[2],[3],[4],[5]])\n",
    "print(a)\n",
    "b = np.array([[2,4,6,8,10]])\n",
    "print(b)"
   ]
  },
  {
   "cell_type": "markdown",
   "metadata": {},
   "source": [
    "### \"Transpose\"\n",
    "\n",
    "To take the transpose, swap the rows with the columns\n",
    "\n",
    "Equivalently, reflect across the main diagonal\n",
    "\n",
    "$$\\mathbf{X} = \\begin{bmatrix}\n",
    "    1 & 2 & 3 \\\\\n",
    "    2 & 4 & 8\n",
    "  \\end{bmatrix}$$\n",
    "  \n",
    "$$\\mathbf{X}^T = \\mathbf{X}' = \\begin{bmatrix}\n",
    "    1 & 2 \\\\\n",
    "    2 & 4 \\\\\n",
    "    3 & 8\n",
    "  \\end{bmatrix}$$\n",
    "  \n",
    "In general,\n",
    "  \n",
    "$$\\mathbf{M} = \\begin{bmatrix}\n",
    "    m_{1,1} & m_{1,2} & m_{1,3} & \\ldots & m_{1,k} \\\\\n",
    "    m_{2,1} & m_{2,2} & m_{2,3} & \\ldots & m_{2,k} \\\\\n",
    "    m_{3,1} & m_{3,2} & m_{3,3} & \\ldots & m_{3,k} \\\\\n",
    "    \\vdots & \\vdots & \\vdots & \\ddots & \\vdots \\\\\n",
    "    m_{n,1} & m_{n,2} & m_{n,3} & \\ldots & m_{n,k}\n",
    "  \\end{bmatrix}$$  \n",
    "  \n",
    "$$\\mathbf{M}^T = \\mathbf{M}' = \\begin{bmatrix}\n",
    "    m_{1,1} & m_{2,1} & m_{3,1} & \\ldots & m_{n,1} \\\\\n",
    "    m_{1,2} & m_{2,2} & m_{3,2} & \\ldots & m_{n,2} \\\\\n",
    "    m_{1,3} & m_{2,3} & m_{3,3} & \\ldots & m_{n,3} \\\\\n",
    "    \\vdots & \\vdots & \\vdots & \\ddots & \\vdots \\\\\n",
    "    m_{1,k} & m_{2,k} & m_{3,k} & \\ldots & m_{n,k}\n",
    "  \\end{bmatrix}$$\n",
    "  \n",
    "Note that this swaps the dimensions of $\\mathbf{M}$!"
   ]
  },
  {
   "cell_type": "code",
   "execution_count": 5,
   "metadata": {},
   "outputs": [
    {
     "name": "stdout",
     "output_type": "stream",
     "text": [
      "Our matrix:\n",
      " [[1 2 3]\n",
      " [2 4 8]]\n",
      "The dimensions of X:\n",
      " (2, 3)\n",
      "The transpose of our matrix:\n",
      " [[1 2]\n",
      " [2 4]\n",
      " [3 8]]\n",
      "The dimensions of the transpose of X:\n",
      " (3, 2)\n"
     ]
    }
   ],
   "source": [
    "print(\"Our matrix:\\n\", X)\n",
    "print(\"The dimensions of X:\\n\", X.shape)\n",
    "print(\"The transpose of our matrix:\\n\", X.T)\n",
    "print(\"The dimensions of the transpose of X:\\n\", X.T.shape)"
   ]
  },
  {
   "cell_type": "markdown",
   "metadata": {},
   "source": [
    "### \"Square Matrix\"\n",
    "\n",
    "A square matrix has the same number of rows and columns\n",
    "$$==$$\n",
    "A square matrix has $n = k$\n",
    "$$==$$\n",
    "A square matrix has equal dimensions\n",
    "$$==$$\n",
    "A square matrix has the same dimensions as its transpose\n",
    " \n",
    "$$\\mathbf{S} = \\begin{bmatrix}\n",
    "    1 & 2 & 3 \\\\\n",
    "    4 & 5 & 6 \\\\\n",
    "    7 & 8 & 9\n",
    "  \\end{bmatrix}$$"
   ]
  },
  {
   "cell_type": "code",
   "execution_count": 7,
   "metadata": {},
   "outputs": [
    {
     "name": "stdout",
     "output_type": "stream",
     "text": [
      "The dimensions of S:\n",
      " (3, 3)\n",
      "The dimensions of the transpose of S:\n",
      " (3, 3)\n"
     ]
    }
   ],
   "source": [
    "S = np.array([[1,2,3],[4,5,6],[7,8,9]])\n",
    "print(\"The dimensions of S:\\n\", S.shape)\n",
    "print(\"The dimensions of the transpose of S:\\n\", S.T.shape)"
   ]
  },
  {
   "cell_type": "markdown",
   "metadata": {},
   "source": [
    "### \"Symmetric Matrix\"\n",
    "\n",
    "A symmetric matrix is a square matrix with the same values on both sides of the diagonal\n",
    "$$==$$\n",
    "A symmetric matrix is a matrix that is equal to its transpose\n",
    " \n",
    "$$\\mathbf{R} = \\begin{bmatrix}\n",
    "    1 & 2 & 3 \\\\\n",
    "    2 & 5 & 6 \\\\\n",
    "    3 & 6 & 9\n",
    "  \\end{bmatrix}$$"
   ]
  },
  {
   "cell_type": "code",
   "execution_count": 8,
   "metadata": {},
   "outputs": [
    {
     "name": "stdout",
     "output_type": "stream",
     "text": [
      "[[1 2 3]\n",
      " [2 5 6]\n",
      " [3 6 9]]\n"
     ]
    }
   ],
   "source": [
    "R = np.array([[1,2,3],[2,5,6],[3,6,9]])\n",
    "print(R)"
   ]
  },
  {
   "cell_type": "code",
   "execution_count": 9,
   "metadata": {},
   "outputs": [
    {
     "name": "stdout",
     "output_type": "stream",
     "text": [
      "[[1 2 3]\n",
      " [2 5 6]\n",
      " [3 6 9]]\n"
     ]
    }
   ],
   "source": [
    "\n",
    "print(R.T)"
   ]
  },
  {
   "cell_type": "markdown",
   "metadata": {},
   "source": [
    "# Matrix Algebra"
   ]
  },
  {
   "cell_type": "markdown",
   "metadata": {},
   "source": [
    "### Equality: $=$\n",
    "\n",
    "For two matrices to be equal, they must:\n",
    "1. have the same dimensions\n",
    "2. have equal elements in every position"
   ]
  },
  {
   "cell_type": "code",
   "execution_count": 10,
   "metadata": {},
   "outputs": [
    {
     "data": {
      "text/plain": [
       "True"
      ]
     },
     "execution_count": 10,
     "metadata": {},
     "output_type": "execute_result"
    }
   ],
   "source": [
    "#Does X = X?\n",
    "np.array_equal(X,X)"
   ]
  },
  {
   "cell_type": "code",
   "execution_count": 11,
   "metadata": {},
   "outputs": [
    {
     "data": {
      "text/plain": [
       "False"
      ]
     },
     "execution_count": 11,
     "metadata": {},
     "output_type": "execute_result"
    }
   ],
   "source": [
    "#Does X = Y?\n",
    "np.array_equal(X,Y)"
   ]
  },
  {
   "cell_type": "code",
   "execution_count": 12,
   "metadata": {},
   "outputs": [
    {
     "data": {
      "text/plain": [
       "False"
      ]
     },
     "execution_count": 12,
     "metadata": {},
     "output_type": "execute_result"
    }
   ],
   "source": [
    "#Does X = X^T?\n",
    "np.array_equal(X,X.T)"
   ]
  },
  {
   "cell_type": "code",
   "execution_count": 13,
   "metadata": {},
   "outputs": [
    {
     "data": {
      "text/plain": [
       "False"
      ]
     },
     "execution_count": 13,
     "metadata": {},
     "output_type": "execute_result"
    }
   ],
   "source": [
    "#Does S = R?\n",
    "np.array_equal(S,R)"
   ]
  },
  {
   "cell_type": "code",
   "execution_count": 14,
   "metadata": {},
   "outputs": [
    {
     "data": {
      "text/plain": [
       "False"
      ]
     },
     "execution_count": 14,
     "metadata": {},
     "output_type": "execute_result"
    }
   ],
   "source": [
    "#Does S = S^T?\n",
    "np.array_equal(S,S.T)"
   ]
  },
  {
   "cell_type": "code",
   "execution_count": 15,
   "metadata": {},
   "outputs": [
    {
     "data": {
      "text/plain": [
       "True"
      ]
     },
     "execution_count": 15,
     "metadata": {},
     "output_type": "execute_result"
    }
   ],
   "source": [
    "#Does R = R^T?\n",
    "np.array_equal(R,R.T)"
   ]
  },
  {
   "cell_type": "markdown",
   "metadata": {},
   "source": [
    "### Addition and Subtraction\n",
    "\n",
    "To add or subtract two matrices, they must have the same dimensions!\n",
    "\n",
    "We perform addition and subtraction element-wise.\n",
    "\n",
    "$$\\mathbf{R} + \\mathbf{S} = \\begin{bmatrix}\n",
    "    1 & 2 & 3 \\\\\n",
    "    2 & 5 & 6 \\\\\n",
    "    3 & 6 & 9\n",
    "  \\end{bmatrix} + \\begin{bmatrix}\n",
    "    1 & 2 & 3 \\\\\n",
    "    4 & 5 & 6 \\\\\n",
    "    7 & 8 & 9\n",
    "  \\end{bmatrix} = \\begin{bmatrix}\n",
    "    1+1 & 2+2 & 3+3 \\\\\n",
    "    2+4 & 5+5 & 6+6 \\\\\n",
    "    3+7 & 6+8 & 9+9\n",
    "  \\end{bmatrix} = \\begin{bmatrix}\n",
    "    2 & 4 & 6 \\\\\n",
    "    6 & 10 & 12 \\\\\n",
    "    10 & 14 & 18\n",
    "  \\end{bmatrix}$$\n",
    "\n",
    "$$\\mathbf{R} - \\mathbf{S} = \\begin{bmatrix}\n",
    "    1 & 2 & 3 \\\\\n",
    "    2 & 5 & 6 \\\\\n",
    "    3 & 6 & 9\n",
    "  \\end{bmatrix} - \\begin{bmatrix}\n",
    "    1 & 2 & 3 \\\\\n",
    "    4 & 5 & 6 \\\\\n",
    "    7 & 8 & 9\n",
    "  \\end{bmatrix} = \\begin{bmatrix}\n",
    "    1-1 & 2-2 & 3-3 \\\\\n",
    "    2-4 & 5-5 & 6-6 \\\\\n",
    "    3-7 & 6-8 & 9-9\n",
    "  \\end{bmatrix} = \\begin{bmatrix}\n",
    "    0 & 0 & 0 \\\\\n",
    "    -2 & 0 & 0 \\\\\n",
    "    -4 & -2 & 0\n",
    "  \\end{bmatrix}$$"
   ]
  },
  {
   "cell_type": "code",
   "execution_count": 16,
   "metadata": {},
   "outputs": [
    {
     "data": {
      "text/plain": [
       "array([[ 2,  4,  6],\n",
       "       [ 6, 10, 12],\n",
       "       [10, 14, 18]])"
      ]
     },
     "execution_count": 16,
     "metadata": {},
     "output_type": "execute_result"
    }
   ],
   "source": [
    "#In numpy, we can just use the normal + sign\n",
    "R + S"
   ]
  },
  {
   "cell_type": "code",
   "execution_count": 17,
   "metadata": {},
   "outputs": [
    {
     "data": {
      "text/plain": [
       "array([[ 0,  0,  0],\n",
       "       [-2,  0,  0],\n",
       "       [-4, -2,  0]])"
      ]
     },
     "execution_count": 17,
     "metadata": {},
     "output_type": "execute_result"
    }
   ],
   "source": [
    "R - S"
   ]
  },
  {
   "cell_type": "code",
   "execution_count": 18,
   "metadata": {},
   "outputs": [
    {
     "ename": "ValueError",
     "evalue": "operands could not be broadcast together with shapes (2,3) (4,2) ",
     "output_type": "error",
     "traceback": [
      "\u001b[0;31m---------------------------------------------------------------------------\u001b[0m",
      "\u001b[0;31mValueError\u001b[0m                                Traceback (most recent call last)",
      "\u001b[0;32m<ipython-input-18-fb6a9563a70a>\u001b[0m in \u001b[0;36m<module>\u001b[0;34m()\u001b[0m\n\u001b[1;32m      1\u001b[0m \u001b[0;31m#But what if we try to add two matrices with different shapes?\u001b[0m\u001b[0;34m\u001b[0m\u001b[0;34m\u001b[0m\u001b[0;34m\u001b[0m\u001b[0m\n\u001b[0;32m----> 2\u001b[0;31m \u001b[0mX\u001b[0m \u001b[0;34m+\u001b[0m \u001b[0mY\u001b[0m\u001b[0;34m\u001b[0m\u001b[0;34m\u001b[0m\u001b[0m\n\u001b[0m",
      "\u001b[0;31mValueError\u001b[0m: operands could not be broadcast together with shapes (2,3) (4,2) "
     ]
    }
   ],
   "source": [
    "#But what if we try to add two matrices with different shapes?\n",
    "X + Y"
   ]
  },
  {
   "cell_type": "markdown",
   "metadata": {},
   "source": [
    "### Multiplication\n",
    "\n",
    "Matrix multiplication is performed as an $\\textbf{inner product}$ of the rows of the first matrix and the columns of the second.\n",
    "\n",
    "In order to multiply two matrices, the number of columns in the first matrix $\\textbf{must}$ match the number of rows in the second!\n",
    "\n",
    "$$\\begin{bmatrix}\n",
    "    0 & 2 \\\\\n",
    "    4 & 6\n",
    "  \\end{bmatrix} \\times \\begin{bmatrix}\n",
    "    1 & 3 \\\\\n",
    "    5 & 7\n",
    "  \\end{bmatrix} = \\begin{bmatrix}\n",
    "    0*1 + 2*5 & 0*3 + 2*7 \\\\\n",
    "    4*1 + 6*5 & 4*3 + 6*7\n",
    "  \\end{bmatrix} = \\begin{bmatrix}\n",
    "    10 & 14 \\\\\n",
    "    34 & 54\n",
    "  \\end{bmatrix}$$\n",
    "  \n",
    "  \n",
    "$$\\begin{bmatrix}\n",
    "    1 & 3 \\\\\n",
    "    5 & 7\n",
    "  \\end{bmatrix}\n",
    "  \\times \\begin{bmatrix}\n",
    "    0 & 2 \\\\\n",
    "    4 & 6\n",
    "  \\end{bmatrix} = \\begin{bmatrix}\n",
    "    1*0 + 3*4 & 1*2 + 3*6 \\\\\n",
    "    5*0 + 7*4 & 5*2 + 7*6\n",
    "  \\end{bmatrix} = \\begin{bmatrix}\n",
    "    12 & 20 \\\\\n",
    "    28 & 52\n",
    "  \\end{bmatrix}$$\n",
    "  \n",
    "Multiplication is implied when there are no symbols between two matrices:\n",
    "\n",
    "$$\\mathbf{R} \\times \\mathbf{S} = \\mathbf{R}\\mathbf{S}$$"
   ]
  },
  {
   "cell_type": "code",
   "execution_count": 19,
   "metadata": {
    "collapsed": true
   },
   "outputs": [],
   "source": [
    "#Create the matrices from above\n",
    "M1 = np.array([[0,2],[4,6]])\n",
    "M2 = np.array([[1,3],[5,7]])"
   ]
  },
  {
   "cell_type": "code",
   "execution_count": 20,
   "metadata": {},
   "outputs": [
    {
     "data": {
      "text/plain": [
       "array([[10, 14],\n",
       "       [34, 54]])"
      ]
     },
     "execution_count": 20,
     "metadata": {},
     "output_type": "execute_result"
    }
   ],
   "source": [
    "#To do multiplication in numpy, we can use the \"dot\" function.\n",
    "M1.dot(M2)"
   ]
  },
  {
   "cell_type": "code",
   "execution_count": 21,
   "metadata": {},
   "outputs": [
    {
     "data": {
      "text/plain": [
       "array([[12, 20],\n",
       "       [28, 52]])"
      ]
     },
     "execution_count": 21,
     "metadata": {},
     "output_type": "execute_result"
    }
   ],
   "source": [
    "M2.dot(M1)"
   ]
  },
  {
   "cell_type": "code",
   "execution_count": 22,
   "metadata": {},
   "outputs": [
    {
     "data": {
      "text/plain": [
       "array([[ 0,  6],\n",
       "       [20, 42]])"
      ]
     },
     "execution_count": 22,
     "metadata": {},
     "output_type": "execute_result"
    }
   ],
   "source": [
    "M1 * M2 #This gives us a result, but it's not what we want!"
   ]
  },
  {
   "cell_type": "code",
   "execution_count": 24,
   "metadata": {
    "collapsed": true
   },
   "outputs": [
    {
     "data": {
      "text/plain": [
       "False"
      ]
     },
     "execution_count": 24,
     "metadata": {},
     "output_type": "execute_result"
    }
   ],
   "source": [
    "np.array_equal(M1 * M2, M1.dot(M2))"
   ]
  },
  {
   "cell_type": "code",
   "execution_count": 26,
   "metadata": {},
   "outputs": [
    {
     "name": "stdout",
     "output_type": "stream",
     "text": [
      "(3, 2) (2, 4)\n"
     ]
    }
   ],
   "source": [
    "#Can we multiply X and Y?\n",
    "print(X.T.shape, Y.T.shape)"
   ]
  },
  {
   "cell_type": "code",
   "execution_count": 25,
   "metadata": {},
   "outputs": [
    {
     "data": {
      "text/plain": [
       "array([[ 8, 23,  3, 16],\n",
       "       [16, 46,  6, 32],\n",
       "       [30, 87, 11, 52]])"
      ]
     },
     "execution_count": 25,
     "metadata": {},
     "output_type": "execute_result"
    }
   ],
   "source": [
    "X.T.dot(Y.T)"
   ]
  },
  {
   "cell_type": "markdown",
   "metadata": {},
   "source": [
    "The $\\textbf{dot product}$ of two vectors is the sum of the element-wise product, or equivalently:\n",
    "$$\\mathbf{u} \\cdot \\mathbf{v} = \\mathbf{u}^T \\times \\mathbf{v} = \\mathbf{u}^T\\mathbf{v}$$\n",
    "\n",
    "$$ \\mathbf{u} = \\begin{bmatrix} 1 \\\\ 2 \\\\ 3 \\\\ 4 \\end{bmatrix} $$\n",
    "\n",
    "$$ \\mathbf{v} = \\begin{bmatrix} 0 \\\\ 2 \\\\ 4 \\\\ 6 \\end{bmatrix} $$\n",
    "\n",
    "$$ \\mathbf{u}^T\\mathbf{v} = (1*0) + (2 * 2) + (3* 4) + (4 * 6) = 40 $$\n",
    "\n",
    "This is similar to what happens in matrix multiplication to calculate each entry of the final matrix."
   ]
  },
  {
   "cell_type": "code",
   "execution_count": 27,
   "metadata": {},
   "outputs": [
    {
     "data": {
      "text/plain": [
       "40"
      ]
     },
     "execution_count": 27,
     "metadata": {},
     "output_type": "execute_result"
    }
   ],
   "source": [
    "#In numpy, if we declare vectors as one-dimensional, it will handle this for us\n",
    "u = np.array([1,2,3,4])\n",
    "v = np.array([0,2,4,6])\n",
    "u.dot(v)"
   ]
  },
  {
   "cell_type": "code",
   "execution_count": 30,
   "metadata": {},
   "outputs": [
    {
     "data": {
      "text/plain": [
       "array([[40]])"
      ]
     },
     "execution_count": 30,
     "metadata": {},
     "output_type": "execute_result"
    }
   ],
   "source": [
    "#But if we declare them as column vectors explicity, we need to provide the transpose\n",
    "u = np.array([[1],[2],[3],[4]])\n",
    "v = np.array([[0],[2],[4],[6]])\n",
    "u.T.dot(v) #Throws an error!"
   ]
  },
  {
   "cell_type": "code",
   "execution_count": 32,
   "metadata": {
    "collapsed": true
   },
   "outputs": [
    {
     "data": {
      "text/plain": [
       "array([[40]])"
      ]
     },
     "execution_count": 32,
     "metadata": {},
     "output_type": "execute_result"
    }
   ],
   "source": [
    "u.T.dot(v)"
   ]
  },
  {
   "cell_type": "markdown",
   "metadata": {},
   "source": [
    "$\\textbf{Scalar multiplication}$ occurs when mutiplying a scalar (non-matrix) with a matrix, and results in multiplying each element of the matrix by the scalar\n",
    "\n",
    "$$ 3 \\mathbf{R} = 3 \\begin{bmatrix}\n",
    "    1 & 2 & 3 \\\\\n",
    "    2 & 5 & 6 \\\\\n",
    "    3 & 6 & 9\n",
    "  \\end{bmatrix} = \\begin{bmatrix}\n",
    "    3 & 6 & 9 \\\\\n",
    "    6 & 15 & 18 \\\\\n",
    "    9 & 18 & 27\n",
    "  \\end{bmatrix}$$"
   ]
  },
  {
   "cell_type": "code",
   "execution_count": 33,
   "metadata": {
    "collapsed": true
   },
   "outputs": [
    {
     "data": {
      "text/plain": [
       "array([[ 3,  6,  9],\n",
       "       [ 6, 15, 18],\n",
       "       [ 9, 18, 27]])"
      ]
     },
     "execution_count": 33,
     "metadata": {},
     "output_type": "execute_result"
    }
   ],
   "source": [
    "#The multiplication operator handles scalar multiplication\n",
    "3*R"
   ]
  },
  {
   "cell_type": "markdown",
   "metadata": {},
   "source": [
    "# What about division?\n",
    "\n",
    "We have matrix addition, subtraction, and multiplication, why not division?\n",
    "\n",
    "Division as we are used to it is the inverse operation of multiplication: $\\frac{x}{y} * y = x$\n",
    "\n",
    "For matrices, instead of division we want to define an $\\textbf{inverse matrix}$ such that: $\\mathbf{A}\\mathbf{B}\\mathbf{B}^{-1} = \\mathbf{A}$. So multiplying by the inverse of a matrix undoes the action of multiplying by the matrix in the first place."
   ]
  },
  {
   "cell_type": "markdown",
   "metadata": {},
   "source": [
    "### The identity matrix\n",
    "\n",
    "Before we figure out how to create the inverse matrix, we need to understand what the product $\\mathbf{B}\\mathbf{B}^{-1}$ should equal.\n",
    "\n",
    "We want a matrix such that multiplying any other matrix by it leaves the first matrix unchanged. This is called the $\\textbf{identity matrix}$ and denoted $\\mathbf{I}$.\n",
    "\n",
    "$$ \\mathbf{I} = \\begin{bmatrix}\n",
    "    1 & 0 & 0 & \\ldots \\\\\n",
    "    0 & 1 & 0 & \\ldots \\\\\n",
    "    0 & 0 & 1 & \\ldots \\\\\n",
    "    \\vdots & \\vdots & \\vdots &\\ddots\n",
    "  \\end{bmatrix}$$\n",
    "  \n",
    "$$\\mathbf{B}\\mathbf{B}^{-1} = \\mathbf{I}$$\n",
    "\n",
    "This is well and good, but it is non-trivial to imagine how to calculate an inverse that satisfies this relation."
   ]
  },
  {
   "cell_type": "markdown",
   "metadata": {},
   "source": [
    "### Preliminary: Determinants\n",
    "\n",
    "Before we can compute the inverse properly, we need to understand the determinant of a matrix: $|\\mathbf{B}|$.\n",
    "\n",
    "#### 2x2\n",
    "\n",
    "$$|M| = \\left |\\begin{bmatrix}\n",
    "    m_{1,1} & m_{1,2} \\\\\n",
    "    m_{2,1} & m_{2,2}\n",
    "  \\end{bmatrix}\\right | = m_{1,1}m_{2,2} - m_{1,2}m_{2,1}$$\n",
    "  \n",
    "#### 3x3\n",
    "\n",
    "$$|M| = \\left |\\begin{bmatrix}\n",
    "    m_{1,1} & m_{1,2} & m_{1,3} \\\\\n",
    "    m_{2,1} & m_{2,2} & m_{2,3} \\\\\n",
    "    m_{3,1} & m_{3,2} & m_{3,3}\n",
    "    \\end{bmatrix} \\right | = m_{1,1}m_{2,2}m_{3,3} - m_{1,1}m_{2,3}m_{3,2} + m_{1,2}m_{2,3}m_{3,1} - m_{1,2}m_{2,1}m_{3,3} + m_{1,3}m_{3,2}m_{2,1} - m_{1,3}m_{3,1}m_{2,2}$$\n",
    "\n",
    "#### 4x4 and beyond:\n",
    "\n",
    "The formula gets ugly fast! Easier to have it calculated for you."
   ]
  },
  {
   "cell_type": "code",
   "execution_count": 31,
   "metadata": {},
   "outputs": [
    {
     "data": {
      "text/plain": [
       "7.000000000000001"
      ]
     },
     "execution_count": 31,
     "metadata": {},
     "output_type": "execute_result"
    }
   ],
   "source": [
    "M = np.array([[1,2,3],[1,3,8],[1,4,20]])\n",
    "np.linalg.det(M)"
   ]
  },
  {
   "cell_type": "code",
   "execution_count": 32,
   "metadata": {},
   "outputs": [
    {
     "ename": "LinAlgError",
     "evalue": "Last 2 dimensions of the array must be square",
     "output_type": "error",
     "traceback": [
      "\u001b[0;31m---------------------------------------------------------------------------\u001b[0m",
      "\u001b[0;31mLinAlgError\u001b[0m                               Traceback (most recent call last)",
      "\u001b[0;32m<ipython-input-32-836601b56eb4>\u001b[0m in \u001b[0;36m<module>\u001b[0;34m()\u001b[0m\n\u001b[0;32m----> 1\u001b[0;31m \u001b[0mnp\u001b[0m\u001b[0;34m.\u001b[0m\u001b[0mlinalg\u001b[0m\u001b[0;34m.\u001b[0m\u001b[0mdet\u001b[0m\u001b[0;34m(\u001b[0m\u001b[0mX\u001b[0m\u001b[0;34m)\u001b[0m \u001b[0;31m#what if we try a non-square matrix?\u001b[0m\u001b[0;34m\u001b[0m\u001b[0;34m\u001b[0m\u001b[0m\n\u001b[0m",
      "\u001b[0;32m~/miniconda3/lib/python3.6/site-packages/numpy/linalg/linalg.py\u001b[0m in \u001b[0;36mdet\u001b[0;34m(a)\u001b[0m\n\u001b[1;32m   2017\u001b[0m     \u001b[0ma\u001b[0m \u001b[0;34m=\u001b[0m \u001b[0masarray\u001b[0m\u001b[0;34m(\u001b[0m\u001b[0ma\u001b[0m\u001b[0;34m)\u001b[0m\u001b[0;34m\u001b[0m\u001b[0;34m\u001b[0m\u001b[0m\n\u001b[1;32m   2018\u001b[0m     \u001b[0m_assertRankAtLeast2\u001b[0m\u001b[0;34m(\u001b[0m\u001b[0ma\u001b[0m\u001b[0;34m)\u001b[0m\u001b[0;34m\u001b[0m\u001b[0;34m\u001b[0m\u001b[0m\n\u001b[0;32m-> 2019\u001b[0;31m     \u001b[0m_assertNdSquareness\u001b[0m\u001b[0;34m(\u001b[0m\u001b[0ma\u001b[0m\u001b[0;34m)\u001b[0m\u001b[0;34m\u001b[0m\u001b[0;34m\u001b[0m\u001b[0m\n\u001b[0m\u001b[1;32m   2020\u001b[0m     \u001b[0mt\u001b[0m\u001b[0;34m,\u001b[0m \u001b[0mresult_t\u001b[0m \u001b[0;34m=\u001b[0m \u001b[0m_commonType\u001b[0m\u001b[0;34m(\u001b[0m\u001b[0ma\u001b[0m\u001b[0;34m)\u001b[0m\u001b[0;34m\u001b[0m\u001b[0;34m\u001b[0m\u001b[0m\n\u001b[1;32m   2021\u001b[0m     \u001b[0msignature\u001b[0m \u001b[0;34m=\u001b[0m \u001b[0;34m'D->D'\u001b[0m \u001b[0;32mif\u001b[0m \u001b[0misComplexType\u001b[0m\u001b[0;34m(\u001b[0m\u001b[0mt\u001b[0m\u001b[0;34m)\u001b[0m \u001b[0;32melse\u001b[0m \u001b[0;34m'd->d'\u001b[0m\u001b[0;34m\u001b[0m\u001b[0;34m\u001b[0m\u001b[0m\n",
      "\u001b[0;32m~/miniconda3/lib/python3.6/site-packages/numpy/linalg/linalg.py\u001b[0m in \u001b[0;36m_assertNdSquareness\u001b[0;34m(*arrays)\u001b[0m\n\u001b[1;32m    213\u001b[0m         \u001b[0mm\u001b[0m\u001b[0;34m,\u001b[0m \u001b[0mn\u001b[0m \u001b[0;34m=\u001b[0m \u001b[0ma\u001b[0m\u001b[0;34m.\u001b[0m\u001b[0mshape\u001b[0m\u001b[0;34m[\u001b[0m\u001b[0;34m-\u001b[0m\u001b[0;36m2\u001b[0m\u001b[0;34m:\u001b[0m\u001b[0;34m]\u001b[0m\u001b[0;34m\u001b[0m\u001b[0;34m\u001b[0m\u001b[0m\n\u001b[1;32m    214\u001b[0m         \u001b[0;32mif\u001b[0m \u001b[0mm\u001b[0m \u001b[0;34m!=\u001b[0m \u001b[0mn\u001b[0m\u001b[0;34m:\u001b[0m\u001b[0;34m\u001b[0m\u001b[0;34m\u001b[0m\u001b[0m\n\u001b[0;32m--> 215\u001b[0;31m             \u001b[0;32mraise\u001b[0m \u001b[0mLinAlgError\u001b[0m\u001b[0;34m(\u001b[0m\u001b[0;34m'Last 2 dimensions of the array must be square'\u001b[0m\u001b[0;34m)\u001b[0m\u001b[0;34m\u001b[0m\u001b[0;34m\u001b[0m\u001b[0m\n\u001b[0m\u001b[1;32m    216\u001b[0m \u001b[0;34m\u001b[0m\u001b[0m\n\u001b[1;32m    217\u001b[0m \u001b[0;32mdef\u001b[0m \u001b[0m_assertFinite\u001b[0m\u001b[0;34m(\u001b[0m\u001b[0;34m*\u001b[0m\u001b[0marrays\u001b[0m\u001b[0;34m)\u001b[0m\u001b[0;34m:\u001b[0m\u001b[0;34m\u001b[0m\u001b[0;34m\u001b[0m\u001b[0m\n",
      "\u001b[0;31mLinAlgError\u001b[0m: Last 2 dimensions of the array must be square"
     ]
    }
   ],
   "source": [
    "np.linalg.det(X) #what if we try a non-square matrix?"
   ]
  },
  {
   "cell_type": "code",
   "execution_count": 33,
   "metadata": {},
   "outputs": [
    {
     "data": {
      "text/plain": [
       "-4.996003610813175e-16"
      ]
     },
     "execution_count": 33,
     "metadata": {},
     "output_type": "execute_result"
    }
   ],
   "source": [
    "np.linalg.det(R) #This determinant is very small - what does this mean?"
   ]
  },
  {
   "cell_type": "markdown",
   "metadata": {},
   "source": [
    "### Matrix Inverse\n",
    "\n",
    "Now that we have a determinant, we can calculate the inverse!\n",
    "\n",
    "#### 2x2\n",
    "\n",
    "$$\\mathbf{M}^{-1} = \\frac{1}{|\\mathbf{M}|}\\begin{bmatrix}\n",
    "    m_{2,2} & -m_{1,2} \\\\\n",
    "    -m_{2,1} & m_{1,1}\n",
    "  \\end{bmatrix}$$\n",
    "  \n",
    "#### 3x3 and beyond\n",
    "\n",
    "These are complicated - easier to have it calculated for you."
   ]
  },
  {
   "cell_type": "code",
   "execution_count": 34,
   "metadata": {},
   "outputs": [
    {
     "data": {
      "text/plain": [
       "array([[ 4.        , -4.        ,  1.        ],\n",
       "       [-1.71428571,  2.42857143, -0.71428571],\n",
       "       [ 0.14285714, -0.28571429,  0.14285714]])"
      ]
     },
     "execution_count": 34,
     "metadata": {},
     "output_type": "execute_result"
    }
   ],
   "source": [
    "np.linalg.inv(M)"
   ]
  },
  {
   "cell_type": "code",
   "execution_count": 35,
   "metadata": {},
   "outputs": [
    {
     "data": {
      "text/plain": [
       "array([[ 1.00000000e+00,  1.11022302e-16, -5.55111512e-17],\n",
       "       [ 4.44089210e-16,  1.00000000e+00,  2.22044605e-16],\n",
       "       [ 2.22044605e-16, -4.44089210e-16,  1.00000000e+00]])"
      ]
     },
     "execution_count": 35,
     "metadata": {},
     "output_type": "execute_result"
    }
   ],
   "source": [
    "M.dot(np.linalg.inv(M))"
   ]
  },
  {
   "cell_type": "code",
   "execution_count": 36,
   "metadata": {},
   "outputs": [
    {
     "name": "stdout",
     "output_type": "stream",
     "text": [
      "[[1 2 3]\n",
      " [2 5 6]\n",
      " [3 6 9]]\n",
      "[[1. 2. 3.]\n",
      " [2. 5. 6.]\n",
      " [3. 6. 9.]]\n",
      "False\n"
     ]
    }
   ],
   "source": [
    "print(R)\n",
    "C = R.dot(M).dot(np.linalg.inv(M))\n",
    "print(C)\n",
    "print(np.array_equal(R, C)) #Note that the approximation might result in numpy thinking they are not equal"
   ]
  },
  {
   "cell_type": "code",
   "execution_count": 37,
   "metadata": {},
   "outputs": [
    {
     "data": {
      "text/plain": [
       "-4.996003610813175e-16"
      ]
     },
     "execution_count": 37,
     "metadata": {},
     "output_type": "execute_result"
    }
   ],
   "source": [
    "np.linalg.det(R)"
   ]
  },
  {
   "cell_type": "code",
   "execution_count": 38,
   "metadata": {},
   "outputs": [
    {
     "data": {
      "text/plain": [
       "array([[-1.80143985e+16,  0.00000000e+00,  6.00479950e+15],\n",
       "       [-2.00000000e+00,  1.00000000e+00,  0.00000000e+00],\n",
       "       [ 6.00479950e+15, -6.66666667e-01, -2.00159983e+15]])"
      ]
     },
     "execution_count": 38,
     "metadata": {},
     "output_type": "execute_result"
    }
   ],
   "source": [
    "#What is the inverse if the determinant is 0?\n",
    "np.linalg.inv(R)"
   ]
  },
  {
   "cell_type": "code",
   "execution_count": null,
   "metadata": {
    "collapsed": true
   },
   "outputs": [],
   "source": []
  },
  {
   "cell_type": "markdown",
   "metadata": {},
   "source": [
    "## Images"
   ]
  },
  {
   "cell_type": "code",
   "execution_count": 39,
   "metadata": {},
   "outputs": [
    {
     "name": "stderr",
     "output_type": "stream",
     "text": [
      "/Users/rodriglr/miniconda3/lib/python3.6/site-packages/ipykernel_launcher.py:1: DeprecationWarning: `imread` is deprecated!\n",
      "`imread` is deprecated in SciPy 1.0.0, and will be removed in 1.2.0.\n",
      "Use ``imageio.imread`` instead.\n",
      "  \"\"\"Entry point for launching an IPython kernel.\n"
     ]
    }
   ],
   "source": [
    "einstein = scipy.misc.imread(\"./einstein.jpg\")\n",
    "einstein = einstein[:,:,1]"
   ]
  },
  {
   "cell_type": "code",
   "execution_count": 40,
   "metadata": {
    "collapsed": true
   },
   "outputs": [],
   "source": [
    "image = Image.fromarray(einstein)\n",
    "image.show()"
   ]
  },
  {
   "cell_type": "code",
   "execution_count": 41,
   "metadata": {},
   "outputs": [
    {
     "data": {
      "text/plain": [
       "(1200, 1920)"
      ]
     },
     "execution_count": 41,
     "metadata": {},
     "output_type": "execute_result"
    }
   ],
   "source": [
    "einstein.shape"
   ]
  },
  {
   "cell_type": "code",
   "execution_count": 42,
   "metadata": {},
   "outputs": [
    {
     "data": {
      "text/plain": [
       "(1920, 1200)"
      ]
     },
     "execution_count": 42,
     "metadata": {},
     "output_type": "execute_result"
    }
   ],
   "source": [
    "einstein.T.shape"
   ]
  },
  {
   "cell_type": "code",
   "execution_count": 43,
   "metadata": {
    "collapsed": true
   },
   "outputs": [],
   "source": [
    "image = Image.fromarray(einstein.T)\n",
    "image.show()"
   ]
  },
  {
   "cell_type": "code",
   "execution_count": 44,
   "metadata": {},
   "outputs": [
    {
     "data": {
      "text/plain": [
       "(1200, 1200)"
      ]
     },
     "execution_count": 44,
     "metadata": {},
     "output_type": "execute_result"
    }
   ],
   "source": [
    "einstein = einstein[:, 400:1600]\n",
    "einstein.shape"
   ]
  },
  {
   "cell_type": "code",
   "execution_count": 45,
   "metadata": {
    "collapsed": true
   },
   "outputs": [],
   "source": [
    "image = Image.fromarray(einstein)\n",
    "image.show()"
   ]
  },
  {
   "cell_type": "code",
   "execution_count": 53,
   "metadata": {
    "collapsed": true
   },
   "outputs": [],
   "source": [
    "image = Image.fromarray(einstein.T)\n",
    "image.show()"
   ]
  },
  {
   "cell_type": "code",
   "execution_count": 46,
   "metadata": {},
   "outputs": [
    {
     "data": {
      "text/plain": [
       "0.0"
      ]
     },
     "execution_count": 46,
     "metadata": {},
     "output_type": "execute_result"
    }
   ],
   "source": [
    "np.linalg.det(einstein)"
   ]
  },
  {
   "cell_type": "code",
   "execution_count": 47,
   "metadata": {
    "collapsed": true
   },
   "outputs": [],
   "source": [
    "einstein_sum = einstein + einstein\n",
    "einstein_difference = einstein - einstein\n",
    "einstein_product = einstein.dot(einstein)"
   ]
  },
  {
   "cell_type": "code",
   "execution_count": 48,
   "metadata": {
    "collapsed": true
   },
   "outputs": [],
   "source": [
    "image = Image.fromarray(einstein_sum)\n",
    "image.show()"
   ]
  },
  {
   "cell_type": "code",
   "execution_count": 49,
   "metadata": {
    "collapsed": true
   },
   "outputs": [],
   "source": [
    "image = Image.fromarray(einstein_difference)\n",
    "image.show()"
   ]
  },
  {
   "cell_type": "code",
   "execution_count": 50,
   "metadata": {
    "collapsed": true
   },
   "outputs": [],
   "source": [
    "image = Image.fromarray(einstein_product)\n",
    "image.show()"
   ]
  },
  {
   "cell_type": "code",
   "execution_count": 51,
   "metadata": {},
   "outputs": [
    {
     "name": "stderr",
     "output_type": "stream",
     "text": [
      "/Users/rodriglr/miniconda3/lib/python3.6/site-packages/ipykernel_launcher.py:1: DeprecationWarning: `imread` is deprecated!\n",
      "`imread` is deprecated in SciPy 1.0.0, and will be removed in 1.2.0.\n",
      "Use ``imageio.imread`` instead.\n",
      "  \"\"\"Entry point for launching an IPython kernel.\n"
     ]
    }
   ],
   "source": [
    "apple = scipy.misc.imread(\"./apple.jpeg\")"
   ]
  },
  {
   "cell_type": "code",
   "execution_count": 52,
   "metadata": {},
   "outputs": [
    {
     "data": {
      "text/plain": [
       "(1204, 1880)"
      ]
     },
     "execution_count": 52,
     "metadata": {},
     "output_type": "execute_result"
    }
   ],
   "source": [
    "apple.shape"
   ]
  },
  {
   "cell_type": "code",
   "execution_count": 53,
   "metadata": {
    "collapsed": true
   },
   "outputs": [],
   "source": [
    "image = Image.fromarray(apple)\n",
    "image.show()"
   ]
  },
  {
   "cell_type": "code",
   "execution_count": 54,
   "metadata": {
    "collapsed": true
   },
   "outputs": [],
   "source": [
    "apple = apple[-1200:, -1200:]"
   ]
  },
  {
   "cell_type": "code",
   "execution_count": 55,
   "metadata": {},
   "outputs": [
    {
     "data": {
      "text/plain": [
       "(1200, 1200)"
      ]
     },
     "execution_count": 55,
     "metadata": {},
     "output_type": "execute_result"
    }
   ],
   "source": [
    "apple.shape"
   ]
  },
  {
   "cell_type": "code",
   "execution_count": 56,
   "metadata": {
    "collapsed": true
   },
   "outputs": [],
   "source": [
    "image = Image.fromarray(apple)\n",
    "image.show()"
   ]
  },
  {
   "cell_type": "code",
   "execution_count": 67,
   "metadata": {
    "collapsed": true
   },
   "outputs": [],
   "source": [
    "apple_sum = apple + apple\n",
    "apple_difference = apple - apple\n",
    "apple_product = apple.dot(apple)"
   ]
  },
  {
   "cell_type": "code",
   "execution_count": 70,
   "metadata": {
    "collapsed": true
   },
   "outputs": [],
   "source": [
    "image = Image.fromarray(apple_sum)\n",
    "image.show()"
   ]
  },
  {
   "cell_type": "code",
   "execution_count": 72,
   "metadata": {
    "collapsed": true
   },
   "outputs": [],
   "source": [
    "image = Image.fromarray(apple_difference)\n",
    "image.show()"
   ]
  },
  {
   "cell_type": "code",
   "execution_count": 73,
   "metadata": {
    "collapsed": true
   },
   "outputs": [],
   "source": [
    "image = Image.fromarray(apple_product)\n",
    "image.show()"
   ]
  },
  {
   "cell_type": "code",
   "execution_count": 58,
   "metadata": {},
   "outputs": [],
   "source": [
    "combined = einstein + apple"
   ]
  },
  {
   "cell_type": "code",
   "execution_count": 59,
   "metadata": {
    "collapsed": true
   },
   "outputs": [],
   "source": [
    "image = Image.fromarray(combined)\n",
    "image.show()"
   ]
  },
  {
   "cell_type": "code",
   "execution_count": 60,
   "metadata": {
    "collapsed": true
   },
   "outputs": [],
   "source": [
    "difference1 = apple - einstein\n",
    "difference2 = einstein - apple"
   ]
  },
  {
   "cell_type": "code",
   "execution_count": 61,
   "metadata": {
    "collapsed": true
   },
   "outputs": [],
   "source": [
    "image = Image.fromarray(difference1)\n",
    "image.show()"
   ]
  },
  {
   "cell_type": "code",
   "execution_count": 62,
   "metadata": {
    "collapsed": true
   },
   "outputs": [],
   "source": [
    "image = Image.fromarray(difference2)\n",
    "image.show()"
   ]
  },
  {
   "cell_type": "code",
   "execution_count": 63,
   "metadata": {
    "collapsed": true
   },
   "outputs": [],
   "source": [
    "product1 = apple.dot(einstein)\n",
    "product2 = einstein.dot(apple)"
   ]
  },
  {
   "cell_type": "code",
   "execution_count": 64,
   "metadata": {
    "collapsed": true
   },
   "outputs": [],
   "source": [
    "image = Image.fromarray(product1)\n",
    "image.show()"
   ]
  },
  {
   "cell_type": "code",
   "execution_count": 65,
   "metadata": {
    "collapsed": true
   },
   "outputs": [],
   "source": [
    "image = Image.fromarray(product2)\n",
    "image.show()"
   ]
  },
  {
   "cell_type": "code",
   "execution_count": null,
   "metadata": {
    "collapsed": true
   },
   "outputs": [],
   "source": []
  }
 ],
 "metadata": {
  "kernelspec": {
   "display_name": "Python 3",
   "language": "python",
   "name": "python3"
  },
  "language_info": {
   "codemirror_mode": {
    "name": "ipython",
    "version": 3
   },
   "file_extension": ".py",
   "mimetype": "text/x-python",
   "name": "python",
   "nbconvert_exporter": "python",
   "pygments_lexer": "ipython3",
   "version": "3.7.1"
  }
 },
 "nbformat": 4,
 "nbformat_minor": 2
}
